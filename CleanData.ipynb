{
 "cells": [
  {
   "cell_type": "code",
   "execution_count": 31,
   "metadata": {
    "collapsed": true
   },
   "outputs": [
    {
     "name": "stderr",
     "output_type": "stream",
     "text": [
      "C:\\Users\\davie\\AppData\\Local\\Temp\\ipykernel_1324\\4063039768.py:4: DtypeWarning: Columns (9) have mixed types. Specify dtype option on import or set low_memory=False.\n",
      "  df_list = (pd.read_csv(file) for file in csv_files)\n",
      "C:\\Users\\davie\\AppData\\Local\\Temp\\ipykernel_1324\\4063039768.py:4: DtypeWarning: Columns (9) have mixed types. Specify dtype option on import or set low_memory=False.\n",
      "  df_list = (pd.read_csv(file) for file in csv_files)\n",
      "C:\\Users\\davie\\AppData\\Local\\Temp\\ipykernel_1324\\4063039768.py:4: DtypeWarning: Columns (9) have mixed types. Specify dtype option on import or set low_memory=False.\n",
      "  df_list = (pd.read_csv(file) for file in csv_files)\n",
      "C:\\Users\\davie\\AppData\\Local\\Temp\\ipykernel_1324\\4063039768.py:4: DtypeWarning: Columns (9) have mixed types. Specify dtype option on import or set low_memory=False.\n",
      "  df_list = (pd.read_csv(file) for file in csv_files)\n",
      "C:\\Users\\davie\\AppData\\Local\\Temp\\ipykernel_1324\\4063039768.py:4: DtypeWarning: Columns (9) have mixed types. Specify dtype option on import or set low_memory=False.\n",
      "  df_list = (pd.read_csv(file) for file in csv_files)\n",
      "C:\\Users\\davie\\AppData\\Local\\Temp\\ipykernel_1324\\4063039768.py:4: DtypeWarning: Columns (9) have mixed types. Specify dtype option on import or set low_memory=False.\n",
      "  df_list = (pd.read_csv(file) for file in csv_files)\n"
     ]
    }
   ],
   "source": [
    "import pandas as pd\n",
    "import glob\n",
    "csv_files = glob.glob(\"battle-results-csv\" + \"/*.csv\")\n",
    "df_list = (pd.read_csv(file) for file in csv_files)\n",
    "\n",
    "big_df = pd.concat(df_list, ignore_index=True)"
   ]
  },
  {
   "cell_type": "code",
   "execution_count": 32,
   "outputs": [],
   "source": [
    "weapons=big_df[[\"# season\", 'game-ver',\"A1-weapon\", \"A2-weapon\",\"A3-weapon\",\"A4-weapon\",\"B1-weapon\",\"B2-weapon\",\"B3-weapon\",\"B4-weapon\"]]"
   ],
   "metadata": {
    "collapsed": false
   }
  },
  {
   "cell_type": "code",
   "execution_count": 33,
   "outputs": [],
   "source": [
    "import json\n",
    "with open(\"weapons.json\") as json_file:\n",
    "    data = json.load(json_file)\n",
    "\n",
    "toENG = {}\n",
    "for i in data:\n",
    "    toENG[i[\"key\"]] = i[\"name\"][\"en_US\"]"
   ],
   "metadata": {
    "collapsed": false
   }
  },
  {
   "cell_type": "code",
   "execution_count": 34,
   "outputs": [
    {
     "name": "stderr",
     "output_type": "stream",
     "text": [
      "C:\\Users\\davie\\AppData\\Local\\Temp\\ipykernel_1324\\2654664428.py:1: SettingWithCopyWarning: \n",
      "A value is trying to be set on a copy of a slice from a DataFrame.\n",
      "Try using .loc[row_indexer,col_indexer] = value instead\n",
      "\n",
      "See the caveats in the documentation: https://pandas.pydata.org/pandas-docs/stable/user_guide/indexing.html#returning-a-view-versus-a-copy\n",
      "  weapons[\"A1-weapon\"] = weapons[\"A1-weapon\"].map(toENG)\n",
      "C:\\Users\\davie\\AppData\\Local\\Temp\\ipykernel_1324\\2654664428.py:2: SettingWithCopyWarning: \n",
      "A value is trying to be set on a copy of a slice from a DataFrame.\n",
      "Try using .loc[row_indexer,col_indexer] = value instead\n",
      "\n",
      "See the caveats in the documentation: https://pandas.pydata.org/pandas-docs/stable/user_guide/indexing.html#returning-a-view-versus-a-copy\n",
      "  weapons[\"A2-weapon\"] = weapons[\"A2-weapon\"].map(toENG)\n",
      "C:\\Users\\davie\\AppData\\Local\\Temp\\ipykernel_1324\\2654664428.py:3: SettingWithCopyWarning: \n",
      "A value is trying to be set on a copy of a slice from a DataFrame.\n",
      "Try using .loc[row_indexer,col_indexer] = value instead\n",
      "\n",
      "See the caveats in the documentation: https://pandas.pydata.org/pandas-docs/stable/user_guide/indexing.html#returning-a-view-versus-a-copy\n",
      "  weapons[\"A3-weapon\"] = weapons[\"A3-weapon\"].map(toENG)\n",
      "C:\\Users\\davie\\AppData\\Local\\Temp\\ipykernel_1324\\2654664428.py:4: SettingWithCopyWarning: \n",
      "A value is trying to be set on a copy of a slice from a DataFrame.\n",
      "Try using .loc[row_indexer,col_indexer] = value instead\n",
      "\n",
      "See the caveats in the documentation: https://pandas.pydata.org/pandas-docs/stable/user_guide/indexing.html#returning-a-view-versus-a-copy\n",
      "  weapons[\"A4-weapon\"] = weapons[\"A4-weapon\"].map(toENG)\n",
      "C:\\Users\\davie\\AppData\\Local\\Temp\\ipykernel_1324\\2654664428.py:5: SettingWithCopyWarning: \n",
      "A value is trying to be set on a copy of a slice from a DataFrame.\n",
      "Try using .loc[row_indexer,col_indexer] = value instead\n",
      "\n",
      "See the caveats in the documentation: https://pandas.pydata.org/pandas-docs/stable/user_guide/indexing.html#returning-a-view-versus-a-copy\n",
      "  weapons[\"B1-weapon\"] = weapons[\"B1-weapon\"].map(toENG)\n",
      "C:\\Users\\davie\\AppData\\Local\\Temp\\ipykernel_1324\\2654664428.py:6: SettingWithCopyWarning: \n",
      "A value is trying to be set on a copy of a slice from a DataFrame.\n",
      "Try using .loc[row_indexer,col_indexer] = value instead\n",
      "\n",
      "See the caveats in the documentation: https://pandas.pydata.org/pandas-docs/stable/user_guide/indexing.html#returning-a-view-versus-a-copy\n",
      "  weapons[\"B2-weapon\"] = weapons[\"B2-weapon\"].map(toENG)\n",
      "C:\\Users\\davie\\AppData\\Local\\Temp\\ipykernel_1324\\2654664428.py:7: SettingWithCopyWarning: \n",
      "A value is trying to be set on a copy of a slice from a DataFrame.\n",
      "Try using .loc[row_indexer,col_indexer] = value instead\n",
      "\n",
      "See the caveats in the documentation: https://pandas.pydata.org/pandas-docs/stable/user_guide/indexing.html#returning-a-view-versus-a-copy\n",
      "  weapons[\"B3-weapon\"] = weapons[\"B3-weapon\"].map(toENG)\n",
      "C:\\Users\\davie\\AppData\\Local\\Temp\\ipykernel_1324\\2654664428.py:8: SettingWithCopyWarning: \n",
      "A value is trying to be set on a copy of a slice from a DataFrame.\n",
      "Try using .loc[row_indexer,col_indexer] = value instead\n",
      "\n",
      "See the caveats in the documentation: https://pandas.pydata.org/pandas-docs/stable/user_guide/indexing.html#returning-a-view-versus-a-copy\n",
      "  weapons[\"B4-weapon\"] = weapons[\"B4-weapon\"].map(toENG)\n"
     ]
    }
   ],
   "source": [
    "weapons[\"A1-weapon\"] = weapons[\"A1-weapon\"].map(toENG)\n",
    "weapons[\"A2-weapon\"] = weapons[\"A2-weapon\"].map(toENG)\n",
    "weapons[\"A3-weapon\"] = weapons[\"A3-weapon\"].map(toENG)\n",
    "weapons[\"A4-weapon\"] = weapons[\"A4-weapon\"].map(toENG)\n",
    "weapons[\"B1-weapon\"] = weapons[\"B1-weapon\"].map(toENG)\n",
    "weapons[\"B2-weapon\"] = weapons[\"B2-weapon\"].map(toENG)\n",
    "weapons[\"B3-weapon\"] = weapons[\"B3-weapon\"].map(toENG)\n",
    "weapons[\"B4-weapon\"] = weapons[\"B4-weapon\"].map(toENG)"
   ],
   "metadata": {
    "collapsed": false
   }
  },
  {
   "cell_type": "code",
   "execution_count": 35,
   "outputs": [
    {
     "data": {
      "text/plain": "                    # season game-ver             A1-weapon         A2-weapon  \\\n0        Drizzle Season 2022    1.1.1          Splattershot      Tenta Brella   \n1        Drizzle Season 2022    1.1.1     Hero Shot Replica      Aerospray MG   \n2        Drizzle Season 2022    1.1.1      Sloshing Machine     Carbon Roller   \n3        Drizzle Season 2022    1.1.1     Hero Shot Replica  Splattershot Jr.   \n4        Drizzle Season 2022    1.1.1      Sloshing Machine     Range Blaster   \n...                      ...      ...                   ...               ...   \n1459852   Sizzle Season 2023    4.1.0        Splash-o-matic     Dynamo Roller   \n1459853   Sizzle Season 2023    4.1.0      Classic Squiffer  Splattershot Jr.   \n1459854   Sizzle Season 2023    4.1.0  Krak-On Splat Roller         N-ZAP '85   \n1459855   Sizzle Season 2023    4.1.0    Rapid Blaster Deco        Bloblobber   \n1459856   Sizzle Season 2023    4.1.0        Splash-o-matic       Nautilus 47   \n\n                     A3-weapon          A4-weapon              B1-weapon  \\\n0               Flingza Roller            .52 Gal            Nautilus 47   \n1                     Inkbrush       Splat Roller        Sploosh-o-matic   \n2                 Splattershot  Dualie Squelchers          Clash Blaster   \n3                 Splat Roller           Inkbrush         Splash-o-matic   \n4               Dapple Dualies        Tri-Slosher            Tri-Slosher   \n...                        ...                ...                    ...   \n1459852              Explosher         Bloblobber  Tentatek Splattershot   \n1459853       Splatana Stamper       Splat Roller  Tentatek Splattershot   \n1459854  Tentatek Splattershot     Flingza Roller          Dynamo Roller   \n1459855    Ballpoint Splatling   Splatana Stamper             Bloblobber   \n1459856         Flingza Roller       REEF-LUX 450     Carbon Roller Deco   \n\n                      B2-weapon             B3-weapon           B4-weapon  \n0                       .52 Gal       Hydra Splatling       Range Blaster  \n1                      Inkbrush     Dualie Squelchers           Goo Tuber  \n2                 Range Blaster   Ballpoint Splatling    Sloshing Machine  \n3              Splattershot Jr.          Splattershot        Splat Roller  \n4               Hydra Splatling       Sploosh-o-matic           N-ZAP '85  \n...                         ...                   ...                 ...  \n1459852  Dapple Dualies Nouveau             Painbrush  Neo Splash-o-matic  \n1459853   Tentatek Splattershot  Krak-On Splat Roller      Splatana Wiper  \n1459854            Splat Roller               Blaster      Splash-o-matic  \n1459855            Aerospray MG             N-ZAP '85       Jet Squelcher  \n1459856    Custom Jet Squelcher       Hydra Splatling       Clash Blaster  \n\n[1459857 rows x 10 columns]",
      "text/html": "<div>\n<style scoped>\n    .dataframe tbody tr th:only-of-type {\n        vertical-align: middle;\n    }\n\n    .dataframe tbody tr th {\n        vertical-align: top;\n    }\n\n    .dataframe thead th {\n        text-align: right;\n    }\n</style>\n<table border=\"1\" class=\"dataframe\">\n  <thead>\n    <tr style=\"text-align: right;\">\n      <th></th>\n      <th># season</th>\n      <th>game-ver</th>\n      <th>A1-weapon</th>\n      <th>A2-weapon</th>\n      <th>A3-weapon</th>\n      <th>A4-weapon</th>\n      <th>B1-weapon</th>\n      <th>B2-weapon</th>\n      <th>B3-weapon</th>\n      <th>B4-weapon</th>\n    </tr>\n  </thead>\n  <tbody>\n    <tr>\n      <th>0</th>\n      <td>Drizzle Season 2022</td>\n      <td>1.1.1</td>\n      <td>Splattershot</td>\n      <td>Tenta Brella</td>\n      <td>Flingza Roller</td>\n      <td>.52 Gal</td>\n      <td>Nautilus 47</td>\n      <td>.52 Gal</td>\n      <td>Hydra Splatling</td>\n      <td>Range Blaster</td>\n    </tr>\n    <tr>\n      <th>1</th>\n      <td>Drizzle Season 2022</td>\n      <td>1.1.1</td>\n      <td>Hero Shot Replica</td>\n      <td>Aerospray MG</td>\n      <td>Inkbrush</td>\n      <td>Splat Roller</td>\n      <td>Sploosh-o-matic</td>\n      <td>Inkbrush</td>\n      <td>Dualie Squelchers</td>\n      <td>Goo Tuber</td>\n    </tr>\n    <tr>\n      <th>2</th>\n      <td>Drizzle Season 2022</td>\n      <td>1.1.1</td>\n      <td>Sloshing Machine</td>\n      <td>Carbon Roller</td>\n      <td>Splattershot</td>\n      <td>Dualie Squelchers</td>\n      <td>Clash Blaster</td>\n      <td>Range Blaster</td>\n      <td>Ballpoint Splatling</td>\n      <td>Sloshing Machine</td>\n    </tr>\n    <tr>\n      <th>3</th>\n      <td>Drizzle Season 2022</td>\n      <td>1.1.1</td>\n      <td>Hero Shot Replica</td>\n      <td>Splattershot Jr.</td>\n      <td>Splat Roller</td>\n      <td>Inkbrush</td>\n      <td>Splash-o-matic</td>\n      <td>Splattershot Jr.</td>\n      <td>Splattershot</td>\n      <td>Splat Roller</td>\n    </tr>\n    <tr>\n      <th>4</th>\n      <td>Drizzle Season 2022</td>\n      <td>1.1.1</td>\n      <td>Sloshing Machine</td>\n      <td>Range Blaster</td>\n      <td>Dapple Dualies</td>\n      <td>Tri-Slosher</td>\n      <td>Tri-Slosher</td>\n      <td>Hydra Splatling</td>\n      <td>Sploosh-o-matic</td>\n      <td>N-ZAP '85</td>\n    </tr>\n    <tr>\n      <th>...</th>\n      <td>...</td>\n      <td>...</td>\n      <td>...</td>\n      <td>...</td>\n      <td>...</td>\n      <td>...</td>\n      <td>...</td>\n      <td>...</td>\n      <td>...</td>\n      <td>...</td>\n    </tr>\n    <tr>\n      <th>1459852</th>\n      <td>Sizzle Season 2023</td>\n      <td>4.1.0</td>\n      <td>Splash-o-matic</td>\n      <td>Dynamo Roller</td>\n      <td>Explosher</td>\n      <td>Bloblobber</td>\n      <td>Tentatek Splattershot</td>\n      <td>Dapple Dualies Nouveau</td>\n      <td>Painbrush</td>\n      <td>Neo Splash-o-matic</td>\n    </tr>\n    <tr>\n      <th>1459853</th>\n      <td>Sizzle Season 2023</td>\n      <td>4.1.0</td>\n      <td>Classic Squiffer</td>\n      <td>Splattershot Jr.</td>\n      <td>Splatana Stamper</td>\n      <td>Splat Roller</td>\n      <td>Tentatek Splattershot</td>\n      <td>Tentatek Splattershot</td>\n      <td>Krak-On Splat Roller</td>\n      <td>Splatana Wiper</td>\n    </tr>\n    <tr>\n      <th>1459854</th>\n      <td>Sizzle Season 2023</td>\n      <td>4.1.0</td>\n      <td>Krak-On Splat Roller</td>\n      <td>N-ZAP '85</td>\n      <td>Tentatek Splattershot</td>\n      <td>Flingza Roller</td>\n      <td>Dynamo Roller</td>\n      <td>Splat Roller</td>\n      <td>Blaster</td>\n      <td>Splash-o-matic</td>\n    </tr>\n    <tr>\n      <th>1459855</th>\n      <td>Sizzle Season 2023</td>\n      <td>4.1.0</td>\n      <td>Rapid Blaster Deco</td>\n      <td>Bloblobber</td>\n      <td>Ballpoint Splatling</td>\n      <td>Splatana Stamper</td>\n      <td>Bloblobber</td>\n      <td>Aerospray MG</td>\n      <td>N-ZAP '85</td>\n      <td>Jet Squelcher</td>\n    </tr>\n    <tr>\n      <th>1459856</th>\n      <td>Sizzle Season 2023</td>\n      <td>4.1.0</td>\n      <td>Splash-o-matic</td>\n      <td>Nautilus 47</td>\n      <td>Flingza Roller</td>\n      <td>REEF-LUX 450</td>\n      <td>Carbon Roller Deco</td>\n      <td>Custom Jet Squelcher</td>\n      <td>Hydra Splatling</td>\n      <td>Clash Blaster</td>\n    </tr>\n  </tbody>\n</table>\n<p>1459857 rows × 10 columns</p>\n</div>"
     },
     "execution_count": 35,
     "metadata": {},
     "output_type": "execute_result"
    }
   ],
   "source": [
    "weapons"
   ],
   "metadata": {
    "collapsed": false
   }
  },
  {
   "cell_type": "code",
   "execution_count": 36,
   "outputs": [],
   "source": [
    "A1_weps = weapons[[\"# season\", \"game-ver\",\"A1-weapon\"]].rename(\n",
    "    {\n",
    "        \"# season\":\"Season\",\n",
    "        \"game-ver\":\"Game_Version\",\n",
    "        \"A1-weapon\":\"Weapon\"\n",
    "    }    ,axis=1\n",
    "\n",
    ")\n",
    "A2_weps = weapons[[\"# season\", \"game-ver\",\"A2-weapon\"]].rename(\n",
    "    {\n",
    "        \"# season\":\"Season\",\n",
    "        \"game-ver\":\"Game_Version\",\n",
    "        \"A2-weapon\":\"Weapon\"\n",
    "    }    ,axis=1\n",
    "\n",
    ")\n",
    "A3_weps = weapons[[\"# season\", \"game-ver\",\"A3-weapon\"]].rename(\n",
    "    {\n",
    "        \"# season\":\"Season\",\n",
    "        \"game-ver\":\"Game_Version\",\n",
    "        \"A3-weapon\":\"Weapon\"\n",
    "    }    ,axis=1\n",
    "\n",
    ")\n",
    "A4_weps = weapons[[\"# season\", \"game-ver\",\"A4-weapon\"]].rename(\n",
    "    {\n",
    "        \"# season\":\"Season\",\n",
    "        \"game-ver\":\"Game_Version\",\n",
    "        \"A4-weapon\":\"Weapon\"\n",
    "    }    ,axis=1\n",
    "\n",
    ")\n",
    "B1_weps = weapons[[\"# season\", \"game-ver\",\"B1-weapon\"]].rename(\n",
    "    {\n",
    "        \"# season\":\"Season\",\n",
    "        \"game-ver\":\"Game_Version\",\n",
    "        \"B1-weapon\":\"Weapon\"\n",
    "    }    ,axis=1\n",
    "\n",
    ")\n",
    "B2_weps = weapons[[\"# season\", \"game-ver\",\"B2-weapon\"]].rename(\n",
    "    {\n",
    "        \"# season\":\"Season\",\n",
    "        \"game-ver\":\"Game_Version\",\n",
    "        \"B2-weapon\":\"Weapon\"\n",
    "    }    ,axis=1\n",
    "\n",
    ")\n",
    "B3_weps = weapons[[\"# season\", \"game-ver\",\"B3-weapon\"]].rename(\n",
    "    {\n",
    "        \"# season\":\"Season\",\n",
    "        \"game-ver\":\"Game_Version\",\n",
    "        \"B3-weapon\":\"Weapon\"\n",
    "    }    ,axis=1\n",
    "\n",
    ")\n",
    "B4_weps = weapons[[\"# season\", \"game-ver\",\"B4-weapon\"]].rename(\n",
    "    {\n",
    "        \"# season\":\"Season\",\n",
    "        \"game-ver\":\"Game_Version\",\n",
    "        \"B4-weapon\":\"Weapon\"\n",
    "    }\n",
    "    ,axis=1\n",
    ")\n",
    "\n",
    "allWeapons = pd.concat([A1_weps,A2_weps,A3_weps,A4_weps,B1_weps,B2_weps,B3_weps,B4_weps], axis=0)"
   ],
   "metadata": {
    "collapsed": false
   }
  },
  {
   "cell_type": "code",
   "execution_count": 37,
   "outputs": [
    {
     "data": {
      "text/plain": "Game_Version  Weapon             \n1.1.1         .52 Gal                2664\n              .96 Gal                 377\n              Aerospray MG            930\n              Ballpoint Splatling     218\n              Bamboozler 14 Mk I      157\n                                     ... \n4.1.0         Tri-Stringer           4247\n              Undercover Brella       410\n              Z+F Splat Charger       405\n              Z+F Splatterscope       377\n              Zink Mini Splatling     162\nName: Weapon, Length: 1176, dtype: int64"
     },
     "execution_count": 37,
     "metadata": {},
     "output_type": "execute_result"
    }
   ],
   "source": [
    "allWeapons.groupby([\"Game_Version\",\"Weapon\"])[\"Weapon\"].count()"
   ],
   "metadata": {
    "collapsed": false
   }
  },
  {
   "cell_type": "code",
   "execution_count": 38,
   "outputs": [],
   "source": [
    "allWeapons.to_csv(\"Splatoon3Weapons.csv\")"
   ],
   "metadata": {
    "collapsed": false
   }
  },
  {
   "cell_type": "code",
   "execution_count": 39,
   "outputs": [
    {
     "data": {
      "text/plain": "                 Weapon     count\n0          Splattershot  0.064133\n1               .52 Gal  0.059200\n2        Splash-o-matic  0.057889\n3      Splattershot Jr.  0.057244\n4      Sloshing Machine  0.056956\n5             N-ZAP '85  0.041556\n6     Dualie Squelchers  0.036400\n7            E-liter 4K  0.036244\n8          Splat Roller  0.033200\n9            Bloblobber  0.030956\n10       Flingza Roller  0.030333\n11    Hero Shot Replica  0.027200\n12      Hydra Splatling  0.026200\n13        Range Blaster  0.025356\n14         REEF-LUX 450  0.024778\n15         Tri-Stringer  0.023444\n16         Aerospray MG  0.020667\n17      Heavy Splatling  0.019178\n18      Sploosh-o-matic  0.016844\n19       Dapple Dualies  0.016422\n20             Inkbrush  0.015978\n21   Dark Tetra Dualies  0.015444\n22     Splattershot Pro  0.014622\n23            Octobrush  0.014533\n24        Clash Blaster  0.014222\n25        Splat Dualies  0.013378\n26        Splat Charger  0.013356\n27            Explosher  0.012000\n28     E-liter 4K Scope  0.010978\n29     Splatana Stamper  0.010978\n30        Dynamo Roller  0.010400\n31     Classic Squiffer  0.010311\n32          Tri-Slosher  0.010044\n33       Glooga Dualies  0.009422\n34              Blaster  0.009356\n35          Nautilus 47  0.009022\n36        Splatterscope  0.008600\n37             Squeezer  0.008422\n38              .96 Gal  0.008378\n39        Rapid Blaster  0.007533\n40        Carbon Roller  0.007422\n41        Jet Squelcher  0.007044\n42         Luna Blaster  0.006933\n43       Splatana Wiper  0.006867\n44              Slosher  0.006822\n45    Undercover Brella  0.005844\n46  Ballpoint Splatling  0.004844\n47    Rapid Blaster Pro  0.003822\n48   Bamboozler 14 Mk I  0.003489\n49         Tenta Brella  0.003089\n50       L-3 Nozzlenose  0.003000\n51            Goo Tuber  0.002933\n52       H-3 Nozzlenose  0.002489\n53       Mini Splatling  0.002222\n54         Splat Brella  0.002000",
      "text/html": "<div>\n<style scoped>\n    .dataframe tbody tr th:only-of-type {\n        vertical-align: middle;\n    }\n\n    .dataframe tbody tr th {\n        vertical-align: top;\n    }\n\n    .dataframe thead th {\n        text-align: right;\n    }\n</style>\n<table border=\"1\" class=\"dataframe\">\n  <thead>\n    <tr style=\"text-align: right;\">\n      <th></th>\n      <th>Weapon</th>\n      <th>count</th>\n    </tr>\n  </thead>\n  <tbody>\n    <tr>\n      <th>0</th>\n      <td>Splattershot</td>\n      <td>0.064133</td>\n    </tr>\n    <tr>\n      <th>1</th>\n      <td>.52 Gal</td>\n      <td>0.059200</td>\n    </tr>\n    <tr>\n      <th>2</th>\n      <td>Splash-o-matic</td>\n      <td>0.057889</td>\n    </tr>\n    <tr>\n      <th>3</th>\n      <td>Splattershot Jr.</td>\n      <td>0.057244</td>\n    </tr>\n    <tr>\n      <th>4</th>\n      <td>Sloshing Machine</td>\n      <td>0.056956</td>\n    </tr>\n    <tr>\n      <th>5</th>\n      <td>N-ZAP '85</td>\n      <td>0.041556</td>\n    </tr>\n    <tr>\n      <th>6</th>\n      <td>Dualie Squelchers</td>\n      <td>0.036400</td>\n    </tr>\n    <tr>\n      <th>7</th>\n      <td>E-liter 4K</td>\n      <td>0.036244</td>\n    </tr>\n    <tr>\n      <th>8</th>\n      <td>Splat Roller</td>\n      <td>0.033200</td>\n    </tr>\n    <tr>\n      <th>9</th>\n      <td>Bloblobber</td>\n      <td>0.030956</td>\n    </tr>\n    <tr>\n      <th>10</th>\n      <td>Flingza Roller</td>\n      <td>0.030333</td>\n    </tr>\n    <tr>\n      <th>11</th>\n      <td>Hero Shot Replica</td>\n      <td>0.027200</td>\n    </tr>\n    <tr>\n      <th>12</th>\n      <td>Hydra Splatling</td>\n      <td>0.026200</td>\n    </tr>\n    <tr>\n      <th>13</th>\n      <td>Range Blaster</td>\n      <td>0.025356</td>\n    </tr>\n    <tr>\n      <th>14</th>\n      <td>REEF-LUX 450</td>\n      <td>0.024778</td>\n    </tr>\n    <tr>\n      <th>15</th>\n      <td>Tri-Stringer</td>\n      <td>0.023444</td>\n    </tr>\n    <tr>\n      <th>16</th>\n      <td>Aerospray MG</td>\n      <td>0.020667</td>\n    </tr>\n    <tr>\n      <th>17</th>\n      <td>Heavy Splatling</td>\n      <td>0.019178</td>\n    </tr>\n    <tr>\n      <th>18</th>\n      <td>Sploosh-o-matic</td>\n      <td>0.016844</td>\n    </tr>\n    <tr>\n      <th>19</th>\n      <td>Dapple Dualies</td>\n      <td>0.016422</td>\n    </tr>\n    <tr>\n      <th>20</th>\n      <td>Inkbrush</td>\n      <td>0.015978</td>\n    </tr>\n    <tr>\n      <th>21</th>\n      <td>Dark Tetra Dualies</td>\n      <td>0.015444</td>\n    </tr>\n    <tr>\n      <th>22</th>\n      <td>Splattershot Pro</td>\n      <td>0.014622</td>\n    </tr>\n    <tr>\n      <th>23</th>\n      <td>Octobrush</td>\n      <td>0.014533</td>\n    </tr>\n    <tr>\n      <th>24</th>\n      <td>Clash Blaster</td>\n      <td>0.014222</td>\n    </tr>\n    <tr>\n      <th>25</th>\n      <td>Splat Dualies</td>\n      <td>0.013378</td>\n    </tr>\n    <tr>\n      <th>26</th>\n      <td>Splat Charger</td>\n      <td>0.013356</td>\n    </tr>\n    <tr>\n      <th>27</th>\n      <td>Explosher</td>\n      <td>0.012000</td>\n    </tr>\n    <tr>\n      <th>28</th>\n      <td>E-liter 4K Scope</td>\n      <td>0.010978</td>\n    </tr>\n    <tr>\n      <th>29</th>\n      <td>Splatana Stamper</td>\n      <td>0.010978</td>\n    </tr>\n    <tr>\n      <th>30</th>\n      <td>Dynamo Roller</td>\n      <td>0.010400</td>\n    </tr>\n    <tr>\n      <th>31</th>\n      <td>Classic Squiffer</td>\n      <td>0.010311</td>\n    </tr>\n    <tr>\n      <th>32</th>\n      <td>Tri-Slosher</td>\n      <td>0.010044</td>\n    </tr>\n    <tr>\n      <th>33</th>\n      <td>Glooga Dualies</td>\n      <td>0.009422</td>\n    </tr>\n    <tr>\n      <th>34</th>\n      <td>Blaster</td>\n      <td>0.009356</td>\n    </tr>\n    <tr>\n      <th>35</th>\n      <td>Nautilus 47</td>\n      <td>0.009022</td>\n    </tr>\n    <tr>\n      <th>36</th>\n      <td>Splatterscope</td>\n      <td>0.008600</td>\n    </tr>\n    <tr>\n      <th>37</th>\n      <td>Squeezer</td>\n      <td>0.008422</td>\n    </tr>\n    <tr>\n      <th>38</th>\n      <td>.96 Gal</td>\n      <td>0.008378</td>\n    </tr>\n    <tr>\n      <th>39</th>\n      <td>Rapid Blaster</td>\n      <td>0.007533</td>\n    </tr>\n    <tr>\n      <th>40</th>\n      <td>Carbon Roller</td>\n      <td>0.007422</td>\n    </tr>\n    <tr>\n      <th>41</th>\n      <td>Jet Squelcher</td>\n      <td>0.007044</td>\n    </tr>\n    <tr>\n      <th>42</th>\n      <td>Luna Blaster</td>\n      <td>0.006933</td>\n    </tr>\n    <tr>\n      <th>43</th>\n      <td>Splatana Wiper</td>\n      <td>0.006867</td>\n    </tr>\n    <tr>\n      <th>44</th>\n      <td>Slosher</td>\n      <td>0.006822</td>\n    </tr>\n    <tr>\n      <th>45</th>\n      <td>Undercover Brella</td>\n      <td>0.005844</td>\n    </tr>\n    <tr>\n      <th>46</th>\n      <td>Ballpoint Splatling</td>\n      <td>0.004844</td>\n    </tr>\n    <tr>\n      <th>47</th>\n      <td>Rapid Blaster Pro</td>\n      <td>0.003822</td>\n    </tr>\n    <tr>\n      <th>48</th>\n      <td>Bamboozler 14 Mk I</td>\n      <td>0.003489</td>\n    </tr>\n    <tr>\n      <th>49</th>\n      <td>Tenta Brella</td>\n      <td>0.003089</td>\n    </tr>\n    <tr>\n      <th>50</th>\n      <td>L-3 Nozzlenose</td>\n      <td>0.003000</td>\n    </tr>\n    <tr>\n      <th>51</th>\n      <td>Goo Tuber</td>\n      <td>0.002933</td>\n    </tr>\n    <tr>\n      <th>52</th>\n      <td>H-3 Nozzlenose</td>\n      <td>0.002489</td>\n    </tr>\n    <tr>\n      <th>53</th>\n      <td>Mini Splatling</td>\n      <td>0.002222</td>\n    </tr>\n    <tr>\n      <th>54</th>\n      <td>Splat Brella</td>\n      <td>0.002000</td>\n    </tr>\n  </tbody>\n</table>\n</div>"
     },
     "execution_count": 39,
     "metadata": {},
     "output_type": "execute_result"
    }
   ],
   "source": [
    "ver1_1_1 = allWeapons[allWeapons[\"Game_Version\"]==\"1.1.1\"].groupby(\"Weapon\")[\"Weapon\"].count().reset_index(name='count').sort_values(['count'], ascending=False, ignore_index=True)\n",
    "ver1_1_1[\"count\"] = ver1_1_1[\"count\"]/sum(ver1_1_1[\"count\"])\n",
    "ver1_1_1"
   ],
   "metadata": {
    "collapsed": false
   }
  },
  {
   "cell_type": "code",
   "execution_count": 40,
   "outputs": [
    {
     "data": {
      "text/plain": "                 Weapon     count\n0          Splattershot  0.067331\n1      Splattershot Jr.  0.063054\n2        Splash-o-matic  0.057245\n3               .52 Gal  0.052676\n4      Sloshing Machine  0.049914\n5            E-liter 4K  0.042263\n6     Dualie Squelchers  0.034032\n7        Flingza Roller  0.032250\n8             N-ZAP '85  0.031585\n9          Splat Roller  0.031442\n10           Bloblobber  0.030212\n11      Hydra Splatling  0.029529\n12    Hero Shot Replica  0.028658\n13         REEF-LUX 450  0.025735\n14        Range Blaster  0.024228\n15         Tri-Stringer  0.022598\n16      Heavy Splatling  0.020452\n17             Inkbrush  0.019919\n18   Dark Tetra Dualies  0.019170\n19       Dapple Dualies  0.018761\n20         Aerospray MG  0.016836\n21      Sploosh-o-matic  0.016695\n22            Explosher  0.014326\n23        Clash Blaster  0.013928\n24            Octobrush  0.012940\n25        Splat Charger  0.012428\n26        Splat Dualies  0.012199\n27     Splatana Stamper  0.011757\n28     Splattershot Pro  0.011462\n29     Classic Squiffer  0.011307\n30       Glooga Dualies  0.011283\n31              Blaster  0.011114\n32       Splatana Wiper  0.010752\n33          Tri-Slosher  0.010742\n34     E-liter 4K Scope  0.010497\n35              .96 Gal  0.008664\n36        Dynamo Roller  0.008318\n37         Luna Blaster  0.008156\n38             Squeezer  0.008043\n39          Nautilus 47  0.007924\n40              Slosher  0.007798\n41        Carbon Roller  0.007241\n42        Splatterscope  0.007134\n43        Rapid Blaster  0.006687\n44        Jet Squelcher  0.006322\n45  Ballpoint Splatling  0.005264\n46            Goo Tuber  0.004895\n47    Undercover Brella  0.004620\n48   Bamboozler 14 Mk I  0.003543\n49    Rapid Blaster Pro  0.003339\n50         Tenta Brella  0.002901\n51       Mini Splatling  0.002820\n52       L-3 Nozzlenose  0.002733\n53       H-3 Nozzlenose  0.002201\n54         Splat Brella  0.002077",
      "text/html": "<div>\n<style scoped>\n    .dataframe tbody tr th:only-of-type {\n        vertical-align: middle;\n    }\n\n    .dataframe tbody tr th {\n        vertical-align: top;\n    }\n\n    .dataframe thead th {\n        text-align: right;\n    }\n</style>\n<table border=\"1\" class=\"dataframe\">\n  <thead>\n    <tr style=\"text-align: right;\">\n      <th></th>\n      <th>Weapon</th>\n      <th>count</th>\n    </tr>\n  </thead>\n  <tbody>\n    <tr>\n      <th>0</th>\n      <td>Splattershot</td>\n      <td>0.067331</td>\n    </tr>\n    <tr>\n      <th>1</th>\n      <td>Splattershot Jr.</td>\n      <td>0.063054</td>\n    </tr>\n    <tr>\n      <th>2</th>\n      <td>Splash-o-matic</td>\n      <td>0.057245</td>\n    </tr>\n    <tr>\n      <th>3</th>\n      <td>.52 Gal</td>\n      <td>0.052676</td>\n    </tr>\n    <tr>\n      <th>4</th>\n      <td>Sloshing Machine</td>\n      <td>0.049914</td>\n    </tr>\n    <tr>\n      <th>5</th>\n      <td>E-liter 4K</td>\n      <td>0.042263</td>\n    </tr>\n    <tr>\n      <th>6</th>\n      <td>Dualie Squelchers</td>\n      <td>0.034032</td>\n    </tr>\n    <tr>\n      <th>7</th>\n      <td>Flingza Roller</td>\n      <td>0.032250</td>\n    </tr>\n    <tr>\n      <th>8</th>\n      <td>N-ZAP '85</td>\n      <td>0.031585</td>\n    </tr>\n    <tr>\n      <th>9</th>\n      <td>Splat Roller</td>\n      <td>0.031442</td>\n    </tr>\n    <tr>\n      <th>10</th>\n      <td>Bloblobber</td>\n      <td>0.030212</td>\n    </tr>\n    <tr>\n      <th>11</th>\n      <td>Hydra Splatling</td>\n      <td>0.029529</td>\n    </tr>\n    <tr>\n      <th>12</th>\n      <td>Hero Shot Replica</td>\n      <td>0.028658</td>\n    </tr>\n    <tr>\n      <th>13</th>\n      <td>REEF-LUX 450</td>\n      <td>0.025735</td>\n    </tr>\n    <tr>\n      <th>14</th>\n      <td>Range Blaster</td>\n      <td>0.024228</td>\n    </tr>\n    <tr>\n      <th>15</th>\n      <td>Tri-Stringer</td>\n      <td>0.022598</td>\n    </tr>\n    <tr>\n      <th>16</th>\n      <td>Heavy Splatling</td>\n      <td>0.020452</td>\n    </tr>\n    <tr>\n      <th>17</th>\n      <td>Inkbrush</td>\n      <td>0.019919</td>\n    </tr>\n    <tr>\n      <th>18</th>\n      <td>Dark Tetra Dualies</td>\n      <td>0.019170</td>\n    </tr>\n    <tr>\n      <th>19</th>\n      <td>Dapple Dualies</td>\n      <td>0.018761</td>\n    </tr>\n    <tr>\n      <th>20</th>\n      <td>Aerospray MG</td>\n      <td>0.016836</td>\n    </tr>\n    <tr>\n      <th>21</th>\n      <td>Sploosh-o-matic</td>\n      <td>0.016695</td>\n    </tr>\n    <tr>\n      <th>22</th>\n      <td>Explosher</td>\n      <td>0.014326</td>\n    </tr>\n    <tr>\n      <th>23</th>\n      <td>Clash Blaster</td>\n      <td>0.013928</td>\n    </tr>\n    <tr>\n      <th>24</th>\n      <td>Octobrush</td>\n      <td>0.012940</td>\n    </tr>\n    <tr>\n      <th>25</th>\n      <td>Splat Charger</td>\n      <td>0.012428</td>\n    </tr>\n    <tr>\n      <th>26</th>\n      <td>Splat Dualies</td>\n      <td>0.012199</td>\n    </tr>\n    <tr>\n      <th>27</th>\n      <td>Splatana Stamper</td>\n      <td>0.011757</td>\n    </tr>\n    <tr>\n      <th>28</th>\n      <td>Splattershot Pro</td>\n      <td>0.011462</td>\n    </tr>\n    <tr>\n      <th>29</th>\n      <td>Classic Squiffer</td>\n      <td>0.011307</td>\n    </tr>\n    <tr>\n      <th>30</th>\n      <td>Glooga Dualies</td>\n      <td>0.011283</td>\n    </tr>\n    <tr>\n      <th>31</th>\n      <td>Blaster</td>\n      <td>0.011114</td>\n    </tr>\n    <tr>\n      <th>32</th>\n      <td>Splatana Wiper</td>\n      <td>0.010752</td>\n    </tr>\n    <tr>\n      <th>33</th>\n      <td>Tri-Slosher</td>\n      <td>0.010742</td>\n    </tr>\n    <tr>\n      <th>34</th>\n      <td>E-liter 4K Scope</td>\n      <td>0.010497</td>\n    </tr>\n    <tr>\n      <th>35</th>\n      <td>.96 Gal</td>\n      <td>0.008664</td>\n    </tr>\n    <tr>\n      <th>36</th>\n      <td>Dynamo Roller</td>\n      <td>0.008318</td>\n    </tr>\n    <tr>\n      <th>37</th>\n      <td>Luna Blaster</td>\n      <td>0.008156</td>\n    </tr>\n    <tr>\n      <th>38</th>\n      <td>Squeezer</td>\n      <td>0.008043</td>\n    </tr>\n    <tr>\n      <th>39</th>\n      <td>Nautilus 47</td>\n      <td>0.007924</td>\n    </tr>\n    <tr>\n      <th>40</th>\n      <td>Slosher</td>\n      <td>0.007798</td>\n    </tr>\n    <tr>\n      <th>41</th>\n      <td>Carbon Roller</td>\n      <td>0.007241</td>\n    </tr>\n    <tr>\n      <th>42</th>\n      <td>Splatterscope</td>\n      <td>0.007134</td>\n    </tr>\n    <tr>\n      <th>43</th>\n      <td>Rapid Blaster</td>\n      <td>0.006687</td>\n    </tr>\n    <tr>\n      <th>44</th>\n      <td>Jet Squelcher</td>\n      <td>0.006322</td>\n    </tr>\n    <tr>\n      <th>45</th>\n      <td>Ballpoint Splatling</td>\n      <td>0.005264</td>\n    </tr>\n    <tr>\n      <th>46</th>\n      <td>Goo Tuber</td>\n      <td>0.004895</td>\n    </tr>\n    <tr>\n      <th>47</th>\n      <td>Undercover Brella</td>\n      <td>0.004620</td>\n    </tr>\n    <tr>\n      <th>48</th>\n      <td>Bamboozler 14 Mk I</td>\n      <td>0.003543</td>\n    </tr>\n    <tr>\n      <th>49</th>\n      <td>Rapid Blaster Pro</td>\n      <td>0.003339</td>\n    </tr>\n    <tr>\n      <th>50</th>\n      <td>Tenta Brella</td>\n      <td>0.002901</td>\n    </tr>\n    <tr>\n      <th>51</th>\n      <td>Mini Splatling</td>\n      <td>0.002820</td>\n    </tr>\n    <tr>\n      <th>52</th>\n      <td>L-3 Nozzlenose</td>\n      <td>0.002733</td>\n    </tr>\n    <tr>\n      <th>53</th>\n      <td>H-3 Nozzlenose</td>\n      <td>0.002201</td>\n    </tr>\n    <tr>\n      <th>54</th>\n      <td>Splat Brella</td>\n      <td>0.002077</td>\n    </tr>\n  </tbody>\n</table>\n</div>"
     },
     "execution_count": 40,
     "metadata": {},
     "output_type": "execute_result"
    }
   ],
   "source": [
    "ver1_1_2 = allWeapons[allWeapons[\"Game_Version\"]==\"1.1.2\"].groupby(\"Weapon\")[\"Weapon\"].count().reset_index(name='count').sort_values(['count'], ascending=False, ignore_index=True)\n",
    "ver1_1_2[\"count\"] = ver1_1_2[\"count\"]/sum(ver1_1_2[\"count\"])\n",
    "ver1_1_2"
   ],
   "metadata": {
    "collapsed": false
   }
  },
  {
   "cell_type": "code",
   "execution_count": 41,
   "outputs": [
    {
     "data": {
      "text/plain": "                 Weapon     count\n0          Splattershot  0.070272\n1      Splattershot Jr.  0.069251\n2        Splash-o-matic  0.052704\n3            E-liter 4K  0.049248\n4               .52 Gal  0.046633\n5      Sloshing Machine  0.039452\n6     Dualie Squelchers  0.031483\n7        Flingza Roller  0.031017\n8          Splat Roller  0.030301\n9            Bloblobber  0.027328\n10        Range Blaster  0.026970\n11      Hydra Splatling  0.026271\n12    Hero Shot Replica  0.025376\n13      Heavy Splatling  0.024122\n14            N-ZAP '85  0.023048\n15      Sploosh-o-matic  0.022332\n16         Tri-Stringer  0.020809\n17             Inkbrush  0.020720\n18       Dapple Dualies  0.019842\n19       Splatana Wiper  0.019090\n20   Dark Tetra Dualies  0.018732\n21            Explosher  0.018714\n22         REEF-LUX 450  0.018499\n23        Clash Blaster  0.015455\n24         Aerospray MG  0.013628\n25            Octobrush  0.012016\n26        Splat Dualies  0.011963\n27     Classic Squiffer  0.011873\n28     E-liter 4K Scope  0.011443\n29     Splatana Stamper  0.011282\n30          Tri-Slosher  0.011211\n31              Blaster  0.011157\n32       Glooga Dualies  0.010960\n33        Splat Charger  0.010297\n34       Mini Splatling  0.009796\n35              .96 Gal  0.009080\n36     Splattershot Pro  0.009044\n37         Luna Blaster  0.008954\n38              Slosher  0.008775\n39          Nautilus 47  0.008256\n40  Ballpoint Splatling  0.007736\n41        Rapid Blaster  0.007575\n42             Squeezer  0.007342\n43        Dynamo Roller  0.007163\n44        Splatterscope  0.007092\n45        Carbon Roller  0.006465\n46         Tenta Brella  0.006178\n47        Jet Squelcher  0.006089\n48            Goo Tuber  0.005498\n49    Undercover Brella  0.005068\n50         Splat Brella  0.004513\n51   Bamboozler 14 Mk I  0.003994\n52    Rapid Blaster Pro  0.003044\n53       L-3 Nozzlenose  0.002561\n54       H-3 Nozzlenose  0.002274",
      "text/html": "<div>\n<style scoped>\n    .dataframe tbody tr th:only-of-type {\n        vertical-align: middle;\n    }\n\n    .dataframe tbody tr th {\n        vertical-align: top;\n    }\n\n    .dataframe thead th {\n        text-align: right;\n    }\n</style>\n<table border=\"1\" class=\"dataframe\">\n  <thead>\n    <tr style=\"text-align: right;\">\n      <th></th>\n      <th>Weapon</th>\n      <th>count</th>\n    </tr>\n  </thead>\n  <tbody>\n    <tr>\n      <th>0</th>\n      <td>Splattershot</td>\n      <td>0.070272</td>\n    </tr>\n    <tr>\n      <th>1</th>\n      <td>Splattershot Jr.</td>\n      <td>0.069251</td>\n    </tr>\n    <tr>\n      <th>2</th>\n      <td>Splash-o-matic</td>\n      <td>0.052704</td>\n    </tr>\n    <tr>\n      <th>3</th>\n      <td>E-liter 4K</td>\n      <td>0.049248</td>\n    </tr>\n    <tr>\n      <th>4</th>\n      <td>.52 Gal</td>\n      <td>0.046633</td>\n    </tr>\n    <tr>\n      <th>5</th>\n      <td>Sloshing Machine</td>\n      <td>0.039452</td>\n    </tr>\n    <tr>\n      <th>6</th>\n      <td>Dualie Squelchers</td>\n      <td>0.031483</td>\n    </tr>\n    <tr>\n      <th>7</th>\n      <td>Flingza Roller</td>\n      <td>0.031017</td>\n    </tr>\n    <tr>\n      <th>8</th>\n      <td>Splat Roller</td>\n      <td>0.030301</td>\n    </tr>\n    <tr>\n      <th>9</th>\n      <td>Bloblobber</td>\n      <td>0.027328</td>\n    </tr>\n    <tr>\n      <th>10</th>\n      <td>Range Blaster</td>\n      <td>0.026970</td>\n    </tr>\n    <tr>\n      <th>11</th>\n      <td>Hydra Splatling</td>\n      <td>0.026271</td>\n    </tr>\n    <tr>\n      <th>12</th>\n      <td>Hero Shot Replica</td>\n      <td>0.025376</td>\n    </tr>\n    <tr>\n      <th>13</th>\n      <td>Heavy Splatling</td>\n      <td>0.024122</td>\n    </tr>\n    <tr>\n      <th>14</th>\n      <td>N-ZAP '85</td>\n      <td>0.023048</td>\n    </tr>\n    <tr>\n      <th>15</th>\n      <td>Sploosh-o-matic</td>\n      <td>0.022332</td>\n    </tr>\n    <tr>\n      <th>16</th>\n      <td>Tri-Stringer</td>\n      <td>0.020809</td>\n    </tr>\n    <tr>\n      <th>17</th>\n      <td>Inkbrush</td>\n      <td>0.020720</td>\n    </tr>\n    <tr>\n      <th>18</th>\n      <td>Dapple Dualies</td>\n      <td>0.019842</td>\n    </tr>\n    <tr>\n      <th>19</th>\n      <td>Splatana Wiper</td>\n      <td>0.019090</td>\n    </tr>\n    <tr>\n      <th>20</th>\n      <td>Dark Tetra Dualies</td>\n      <td>0.018732</td>\n    </tr>\n    <tr>\n      <th>21</th>\n      <td>Explosher</td>\n      <td>0.018714</td>\n    </tr>\n    <tr>\n      <th>22</th>\n      <td>REEF-LUX 450</td>\n      <td>0.018499</td>\n    </tr>\n    <tr>\n      <th>23</th>\n      <td>Clash Blaster</td>\n      <td>0.015455</td>\n    </tr>\n    <tr>\n      <th>24</th>\n      <td>Aerospray MG</td>\n      <td>0.013628</td>\n    </tr>\n    <tr>\n      <th>25</th>\n      <td>Octobrush</td>\n      <td>0.012016</td>\n    </tr>\n    <tr>\n      <th>26</th>\n      <td>Splat Dualies</td>\n      <td>0.011963</td>\n    </tr>\n    <tr>\n      <th>27</th>\n      <td>Classic Squiffer</td>\n      <td>0.011873</td>\n    </tr>\n    <tr>\n      <th>28</th>\n      <td>E-liter 4K Scope</td>\n      <td>0.011443</td>\n    </tr>\n    <tr>\n      <th>29</th>\n      <td>Splatana Stamper</td>\n      <td>0.011282</td>\n    </tr>\n    <tr>\n      <th>30</th>\n      <td>Tri-Slosher</td>\n      <td>0.011211</td>\n    </tr>\n    <tr>\n      <th>31</th>\n      <td>Blaster</td>\n      <td>0.011157</td>\n    </tr>\n    <tr>\n      <th>32</th>\n      <td>Glooga Dualies</td>\n      <td>0.010960</td>\n    </tr>\n    <tr>\n      <th>33</th>\n      <td>Splat Charger</td>\n      <td>0.010297</td>\n    </tr>\n    <tr>\n      <th>34</th>\n      <td>Mini Splatling</td>\n      <td>0.009796</td>\n    </tr>\n    <tr>\n      <th>35</th>\n      <td>.96 Gal</td>\n      <td>0.009080</td>\n    </tr>\n    <tr>\n      <th>36</th>\n      <td>Splattershot Pro</td>\n      <td>0.009044</td>\n    </tr>\n    <tr>\n      <th>37</th>\n      <td>Luna Blaster</td>\n      <td>0.008954</td>\n    </tr>\n    <tr>\n      <th>38</th>\n      <td>Slosher</td>\n      <td>0.008775</td>\n    </tr>\n    <tr>\n      <th>39</th>\n      <td>Nautilus 47</td>\n      <td>0.008256</td>\n    </tr>\n    <tr>\n      <th>40</th>\n      <td>Ballpoint Splatling</td>\n      <td>0.007736</td>\n    </tr>\n    <tr>\n      <th>41</th>\n      <td>Rapid Blaster</td>\n      <td>0.007575</td>\n    </tr>\n    <tr>\n      <th>42</th>\n      <td>Squeezer</td>\n      <td>0.007342</td>\n    </tr>\n    <tr>\n      <th>43</th>\n      <td>Dynamo Roller</td>\n      <td>0.007163</td>\n    </tr>\n    <tr>\n      <th>44</th>\n      <td>Splatterscope</td>\n      <td>0.007092</td>\n    </tr>\n    <tr>\n      <th>45</th>\n      <td>Carbon Roller</td>\n      <td>0.006465</td>\n    </tr>\n    <tr>\n      <th>46</th>\n      <td>Tenta Brella</td>\n      <td>0.006178</td>\n    </tr>\n    <tr>\n      <th>47</th>\n      <td>Jet Squelcher</td>\n      <td>0.006089</td>\n    </tr>\n    <tr>\n      <th>48</th>\n      <td>Goo Tuber</td>\n      <td>0.005498</td>\n    </tr>\n    <tr>\n      <th>49</th>\n      <td>Undercover Brella</td>\n      <td>0.005068</td>\n    </tr>\n    <tr>\n      <th>50</th>\n      <td>Splat Brella</td>\n      <td>0.004513</td>\n    </tr>\n    <tr>\n      <th>51</th>\n      <td>Bamboozler 14 Mk I</td>\n      <td>0.003994</td>\n    </tr>\n    <tr>\n      <th>52</th>\n      <td>Rapid Blaster Pro</td>\n      <td>0.003044</td>\n    </tr>\n    <tr>\n      <th>53</th>\n      <td>L-3 Nozzlenose</td>\n      <td>0.002561</td>\n    </tr>\n    <tr>\n      <th>54</th>\n      <td>H-3 Nozzlenose</td>\n      <td>0.002274</td>\n    </tr>\n  </tbody>\n</table>\n</div>"
     },
     "execution_count": 41,
     "metadata": {},
     "output_type": "execute_result"
    }
   ],
   "source": [
    "ver1_2_0 = allWeapons[allWeapons[\"Game_Version\"] == \"1.2.0\"].groupby(\"Weapon\")[\"Weapon\"].count().reset_index(\n",
    "    name='count').sort_values(['count'], ascending=False, ignore_index=True)\n",
    "ver1_2_0[\"count\"] = ver1_2_0[\"count\"] / sum(ver1_2_0[\"count\"])\n",
    "ver1_2_0\n"
   ],
   "metadata": {
    "collapsed": false
   }
  },
  {
   "cell_type": "code",
   "execution_count": 56,
   "outputs": [
    {
     "data": {
      "text/plain": "                 Weapon     count\n0        Splash-o-matic  0.076627\n1      Splattershot Jr.  0.074722\n2          Splattershot  0.067461\n3               .52 Gal  0.049469\n4            E-liter 4K  0.042031\n5      Sloshing Machine  0.036054\n6            Bloblobber  0.033510\n7        Flingza Roller  0.033241\n8     Dualie Squelchers  0.032580\n9          Splat Roller  0.029522\n10      Hydra Splatling  0.028231\n11    Hero Shot Replica  0.026512\n12            N-ZAP '85  0.026396\n13      Sploosh-o-matic  0.025237\n14         REEF-LUX 450  0.025112\n15             Inkbrush  0.023283\n16      Heavy Splatling  0.023017\n17        Range Blaster  0.019485\n18       Dapple Dualies  0.018312\n19         Aerospray MG  0.018307\n20         Tri-Stringer  0.018210\n21   Dark Tetra Dualies  0.017313\n22            Explosher  0.015782\n23        Clash Blaster  0.013332\n24        Splat Dualies  0.011972\n25     Splatana Stamper  0.011952\n26            Octobrush  0.011736\n27     Classic Squiffer  0.011601\n28          Tri-Slosher  0.011255\n29       Glooga Dualies  0.010981\n30        Splat Charger  0.010909\n31     Splattershot Pro  0.010194\n32       Splatana Wiper  0.009568\n33     E-liter 4K Scope  0.009147\n34        Dynamo Roller  0.008195\n35              Blaster  0.008149\n36          Nautilus 47  0.008144\n37             Squeezer  0.007311\n38              .96 Gal  0.007303\n39              Slosher  0.006932\n40        Carbon Roller  0.006812\n41        Splatterscope  0.006533\n42  Ballpoint Splatling  0.006397\n43        Jet Squelcher  0.006337\n44         Luna Blaster  0.006098\n45        Rapid Blaster  0.006043\n46            Goo Tuber  0.005373\n47       Mini Splatling  0.004795\n48    Undercover Brella  0.004744\n49   Bamboozler 14 Mk I  0.003775\n50         Tenta Brella  0.003557\n51       L-3 Nozzlenose  0.003132\n52         Splat Brella  0.002744\n53    Rapid Blaster Pro  0.002289\n54       H-3 Nozzlenose  0.002276",
      "text/html": "<div>\n<style scoped>\n    .dataframe tbody tr th:only-of-type {\n        vertical-align: middle;\n    }\n\n    .dataframe tbody tr th {\n        vertical-align: top;\n    }\n\n    .dataframe thead th {\n        text-align: right;\n    }\n</style>\n<table border=\"1\" class=\"dataframe\">\n  <thead>\n    <tr style=\"text-align: right;\">\n      <th></th>\n      <th>Weapon</th>\n      <th>count</th>\n    </tr>\n  </thead>\n  <tbody>\n    <tr>\n      <th>0</th>\n      <td>Splash-o-matic</td>\n      <td>0.076627</td>\n    </tr>\n    <tr>\n      <th>1</th>\n      <td>Splattershot Jr.</td>\n      <td>0.074722</td>\n    </tr>\n    <tr>\n      <th>2</th>\n      <td>Splattershot</td>\n      <td>0.067461</td>\n    </tr>\n    <tr>\n      <th>3</th>\n      <td>.52 Gal</td>\n      <td>0.049469</td>\n    </tr>\n    <tr>\n      <th>4</th>\n      <td>E-liter 4K</td>\n      <td>0.042031</td>\n    </tr>\n    <tr>\n      <th>5</th>\n      <td>Sloshing Machine</td>\n      <td>0.036054</td>\n    </tr>\n    <tr>\n      <th>6</th>\n      <td>Bloblobber</td>\n      <td>0.033510</td>\n    </tr>\n    <tr>\n      <th>7</th>\n      <td>Flingza Roller</td>\n      <td>0.033241</td>\n    </tr>\n    <tr>\n      <th>8</th>\n      <td>Dualie Squelchers</td>\n      <td>0.032580</td>\n    </tr>\n    <tr>\n      <th>9</th>\n      <td>Splat Roller</td>\n      <td>0.029522</td>\n    </tr>\n    <tr>\n      <th>10</th>\n      <td>Hydra Splatling</td>\n      <td>0.028231</td>\n    </tr>\n    <tr>\n      <th>11</th>\n      <td>Hero Shot Replica</td>\n      <td>0.026512</td>\n    </tr>\n    <tr>\n      <th>12</th>\n      <td>N-ZAP '85</td>\n      <td>0.026396</td>\n    </tr>\n    <tr>\n      <th>13</th>\n      <td>Sploosh-o-matic</td>\n      <td>0.025237</td>\n    </tr>\n    <tr>\n      <th>14</th>\n      <td>REEF-LUX 450</td>\n      <td>0.025112</td>\n    </tr>\n    <tr>\n      <th>15</th>\n      <td>Inkbrush</td>\n      <td>0.023283</td>\n    </tr>\n    <tr>\n      <th>16</th>\n      <td>Heavy Splatling</td>\n      <td>0.023017</td>\n    </tr>\n    <tr>\n      <th>17</th>\n      <td>Range Blaster</td>\n      <td>0.019485</td>\n    </tr>\n    <tr>\n      <th>18</th>\n      <td>Dapple Dualies</td>\n      <td>0.018312</td>\n    </tr>\n    <tr>\n      <th>19</th>\n      <td>Aerospray MG</td>\n      <td>0.018307</td>\n    </tr>\n    <tr>\n      <th>20</th>\n      <td>Tri-Stringer</td>\n      <td>0.018210</td>\n    </tr>\n    <tr>\n      <th>21</th>\n      <td>Dark Tetra Dualies</td>\n      <td>0.017313</td>\n    </tr>\n    <tr>\n      <th>22</th>\n      <td>Explosher</td>\n      <td>0.015782</td>\n    </tr>\n    <tr>\n      <th>23</th>\n      <td>Clash Blaster</td>\n      <td>0.013332</td>\n    </tr>\n    <tr>\n      <th>24</th>\n      <td>Splat Dualies</td>\n      <td>0.011972</td>\n    </tr>\n    <tr>\n      <th>25</th>\n      <td>Splatana Stamper</td>\n      <td>0.011952</td>\n    </tr>\n    <tr>\n      <th>26</th>\n      <td>Octobrush</td>\n      <td>0.011736</td>\n    </tr>\n    <tr>\n      <th>27</th>\n      <td>Classic Squiffer</td>\n      <td>0.011601</td>\n    </tr>\n    <tr>\n      <th>28</th>\n      <td>Tri-Slosher</td>\n      <td>0.011255</td>\n    </tr>\n    <tr>\n      <th>29</th>\n      <td>Glooga Dualies</td>\n      <td>0.010981</td>\n    </tr>\n    <tr>\n      <th>30</th>\n      <td>Splat Charger</td>\n      <td>0.010909</td>\n    </tr>\n    <tr>\n      <th>31</th>\n      <td>Splattershot Pro</td>\n      <td>0.010194</td>\n    </tr>\n    <tr>\n      <th>32</th>\n      <td>Splatana Wiper</td>\n      <td>0.009568</td>\n    </tr>\n    <tr>\n      <th>33</th>\n      <td>E-liter 4K Scope</td>\n      <td>0.009147</td>\n    </tr>\n    <tr>\n      <th>34</th>\n      <td>Dynamo Roller</td>\n      <td>0.008195</td>\n    </tr>\n    <tr>\n      <th>35</th>\n      <td>Blaster</td>\n      <td>0.008149</td>\n    </tr>\n    <tr>\n      <th>36</th>\n      <td>Nautilus 47</td>\n      <td>0.008144</td>\n    </tr>\n    <tr>\n      <th>37</th>\n      <td>Squeezer</td>\n      <td>0.007311</td>\n    </tr>\n    <tr>\n      <th>38</th>\n      <td>.96 Gal</td>\n      <td>0.007303</td>\n    </tr>\n    <tr>\n      <th>39</th>\n      <td>Slosher</td>\n      <td>0.006932</td>\n    </tr>\n    <tr>\n      <th>40</th>\n      <td>Carbon Roller</td>\n      <td>0.006812</td>\n    </tr>\n    <tr>\n      <th>41</th>\n      <td>Splatterscope</td>\n      <td>0.006533</td>\n    </tr>\n    <tr>\n      <th>42</th>\n      <td>Ballpoint Splatling</td>\n      <td>0.006397</td>\n    </tr>\n    <tr>\n      <th>43</th>\n      <td>Jet Squelcher</td>\n      <td>0.006337</td>\n    </tr>\n    <tr>\n      <th>44</th>\n      <td>Luna Blaster</td>\n      <td>0.006098</td>\n    </tr>\n    <tr>\n      <th>45</th>\n      <td>Rapid Blaster</td>\n      <td>0.006043</td>\n    </tr>\n    <tr>\n      <th>46</th>\n      <td>Goo Tuber</td>\n      <td>0.005373</td>\n    </tr>\n    <tr>\n      <th>47</th>\n      <td>Mini Splatling</td>\n      <td>0.004795</td>\n    </tr>\n    <tr>\n      <th>48</th>\n      <td>Undercover Brella</td>\n      <td>0.004744</td>\n    </tr>\n    <tr>\n      <th>49</th>\n      <td>Bamboozler 14 Mk I</td>\n      <td>0.003775</td>\n    </tr>\n    <tr>\n      <th>50</th>\n      <td>Tenta Brella</td>\n      <td>0.003557</td>\n    </tr>\n    <tr>\n      <th>51</th>\n      <td>L-3 Nozzlenose</td>\n      <td>0.003132</td>\n    </tr>\n    <tr>\n      <th>52</th>\n      <td>Splat Brella</td>\n      <td>0.002744</td>\n    </tr>\n    <tr>\n      <th>53</th>\n      <td>Rapid Blaster Pro</td>\n      <td>0.002289</td>\n    </tr>\n    <tr>\n      <th>54</th>\n      <td>H-3 Nozzlenose</td>\n      <td>0.002276</td>\n    </tr>\n  </tbody>\n</table>\n</div>"
     },
     "execution_count": 56,
     "metadata": {},
     "output_type": "execute_result"
    }
   ],
   "source": [
    "ver1_2_1 = allWeapons[allWeapons[\"Game_Version\"]==\"1.2.1\"].groupby(\"Weapon\")[\"Weapon\"].count().reset_index(name='count').sort_values(['count'], ascending=False, ignore_index=True)\n",
    "ver1_2_1[\"count\"] = ver1_2_1[\"count\"]/sum(ver1_2_1[\"count\"])\n",
    "ver1_2_1"
   ],
   "metadata": {
    "collapsed": false
   }
  },
  {
   "cell_type": "code",
   "execution_count": 43,
   "outputs": [
    {
     "data": {
      "text/plain": "                     Weapon     count\n0   Custom Splattershot Jr.  0.065023\n1     Tentatek Splattershot  0.059519\n2            Splash-o-matic  0.056343\n3    Forge Splattershot Pro  0.046808\n4          Splattershot Jr.  0.044744\n..                      ...       ...\n63           Mini Splatling  0.002000\n64           L-3 Nozzlenose  0.001915\n65        Rapid Blaster Pro  0.001803\n66             Splat Brella  0.001613\n67           H-3 Nozzlenose  0.001152\n\n[68 rows x 2 columns]",
      "text/html": "<div>\n<style scoped>\n    .dataframe tbody tr th:only-of-type {\n        vertical-align: middle;\n    }\n\n    .dataframe tbody tr th {\n        vertical-align: top;\n    }\n\n    .dataframe thead th {\n        text-align: right;\n    }\n</style>\n<table border=\"1\" class=\"dataframe\">\n  <thead>\n    <tr style=\"text-align: right;\">\n      <th></th>\n      <th>Weapon</th>\n      <th>count</th>\n    </tr>\n  </thead>\n  <tbody>\n    <tr>\n      <th>0</th>\n      <td>Custom Splattershot Jr.</td>\n      <td>0.065023</td>\n    </tr>\n    <tr>\n      <th>1</th>\n      <td>Tentatek Splattershot</td>\n      <td>0.059519</td>\n    </tr>\n    <tr>\n      <th>2</th>\n      <td>Splash-o-matic</td>\n      <td>0.056343</td>\n    </tr>\n    <tr>\n      <th>3</th>\n      <td>Forge Splattershot Pro</td>\n      <td>0.046808</td>\n    </tr>\n    <tr>\n      <th>4</th>\n      <td>Splattershot Jr.</td>\n      <td>0.044744</td>\n    </tr>\n    <tr>\n      <th>...</th>\n      <td>...</td>\n      <td>...</td>\n    </tr>\n    <tr>\n      <th>63</th>\n      <td>Mini Splatling</td>\n      <td>0.002000</td>\n    </tr>\n    <tr>\n      <th>64</th>\n      <td>L-3 Nozzlenose</td>\n      <td>0.001915</td>\n    </tr>\n    <tr>\n      <th>65</th>\n      <td>Rapid Blaster Pro</td>\n      <td>0.001803</td>\n    </tr>\n    <tr>\n      <th>66</th>\n      <td>Splat Brella</td>\n      <td>0.001613</td>\n    </tr>\n    <tr>\n      <th>67</th>\n      <td>H-3 Nozzlenose</td>\n      <td>0.001152</td>\n    </tr>\n  </tbody>\n</table>\n<p>68 rows × 2 columns</p>\n</div>"
     },
     "execution_count": 43,
     "metadata": {},
     "output_type": "execute_result"
    }
   ],
   "source": [
    "ver2_0_0= allWeapons[allWeapons[\"Game_Version\"]==\"2.0.0\"].groupby(\"Weapon\")[\"Weapon\"].count().reset_index(name='count').sort_values(['count'], ascending=False, ignore_index=True)\n",
    "ver2_0_0[\"count\"] = ver2_0_0[\"count\"]/sum(ver2_0_0[\"count\"])\n",
    "ver2_0_0"
   ],
   "metadata": {
    "collapsed": false
   }
  },
  {
   "cell_type": "code",
   "execution_count": 44,
   "outputs": [
    {
     "data": {
      "text/plain": "                     Weapon     count\n0            Splash-o-matic  0.086193\n1   Custom Splattershot Jr.  0.066302\n2          Splattershot Jr.  0.043516\n3     Tentatek Splattershot  0.041827\n4                E-liter 4K  0.039842\n..                      ...       ...\n63        Rapid Blaster Pro  0.001966\n64             Splat Brella  0.001921\n65           Mini Splatling  0.001742\n66             Slosher Deco  0.001742\n67           H-3 Nozzlenose  0.001720\n\n[68 rows x 2 columns]",
      "text/html": "<div>\n<style scoped>\n    .dataframe tbody tr th:only-of-type {\n        vertical-align: middle;\n    }\n\n    .dataframe tbody tr th {\n        vertical-align: top;\n    }\n\n    .dataframe thead th {\n        text-align: right;\n    }\n</style>\n<table border=\"1\" class=\"dataframe\">\n  <thead>\n    <tr style=\"text-align: right;\">\n      <th></th>\n      <th>Weapon</th>\n      <th>count</th>\n    </tr>\n  </thead>\n  <tbody>\n    <tr>\n      <th>0</th>\n      <td>Splash-o-matic</td>\n      <td>0.086193</td>\n    </tr>\n    <tr>\n      <th>1</th>\n      <td>Custom Splattershot Jr.</td>\n      <td>0.066302</td>\n    </tr>\n    <tr>\n      <th>2</th>\n      <td>Splattershot Jr.</td>\n      <td>0.043516</td>\n    </tr>\n    <tr>\n      <th>3</th>\n      <td>Tentatek Splattershot</td>\n      <td>0.041827</td>\n    </tr>\n    <tr>\n      <th>4</th>\n      <td>E-liter 4K</td>\n      <td>0.039842</td>\n    </tr>\n    <tr>\n      <th>...</th>\n      <td>...</td>\n      <td>...</td>\n    </tr>\n    <tr>\n      <th>63</th>\n      <td>Rapid Blaster Pro</td>\n      <td>0.001966</td>\n    </tr>\n    <tr>\n      <th>64</th>\n      <td>Splat Brella</td>\n      <td>0.001921</td>\n    </tr>\n    <tr>\n      <th>65</th>\n      <td>Mini Splatling</td>\n      <td>0.001742</td>\n    </tr>\n    <tr>\n      <th>66</th>\n      <td>Slosher Deco</td>\n      <td>0.001742</td>\n    </tr>\n    <tr>\n      <th>67</th>\n      <td>H-3 Nozzlenose</td>\n      <td>0.001720</td>\n    </tr>\n  </tbody>\n</table>\n<p>68 rows × 2 columns</p>\n</div>"
     },
     "execution_count": 44,
     "metadata": {},
     "output_type": "execute_result"
    }
   ],
   "source": [
    "ver2_0_1 = allWeapons[allWeapons[\"Game_Version\"]==\"2.0.1\"].groupby(\"Weapon\")[\"Weapon\"].count().reset_index(name='count').sort_values(['count'], ascending=False, ignore_index=True)\n",
    "ver2_0_1[\"count\"] = ver2_0_1[\"count\"]/sum(ver2_0_1[\"count\"])\n",
    "ver2_0_1"
   ],
   "metadata": {
    "collapsed": false
   }
  },
  {
   "cell_type": "code",
   "execution_count": 45,
   "outputs": [
    {
     "data": {
      "text/plain": "                     Weapon     count\n0     Tentatek Splattershot  0.085651\n1            Splash-o-matic  0.055646\n2   Custom Splattershot Jr.  0.052014\n3                E-liter 4K  0.041422\n4          Splattershot Jr.  0.037720\n..                      ...       ...\n63        Rapid Blaster Pro  0.002114\n64           L-3 Nozzlenose  0.002066\n65            Carbon Roller  0.001899\n66           Snipewriter 5H  0.001795\n67           Mini Splatling  0.001713\n\n[68 rows x 2 columns]",
      "text/html": "<div>\n<style scoped>\n    .dataframe tbody tr th:only-of-type {\n        vertical-align: middle;\n    }\n\n    .dataframe tbody tr th {\n        vertical-align: top;\n    }\n\n    .dataframe thead th {\n        text-align: right;\n    }\n</style>\n<table border=\"1\" class=\"dataframe\">\n  <thead>\n    <tr style=\"text-align: right;\">\n      <th></th>\n      <th>Weapon</th>\n      <th>count</th>\n    </tr>\n  </thead>\n  <tbody>\n    <tr>\n      <th>0</th>\n      <td>Tentatek Splattershot</td>\n      <td>0.085651</td>\n    </tr>\n    <tr>\n      <th>1</th>\n      <td>Splash-o-matic</td>\n      <td>0.055646</td>\n    </tr>\n    <tr>\n      <th>2</th>\n      <td>Custom Splattershot Jr.</td>\n      <td>0.052014</td>\n    </tr>\n    <tr>\n      <th>3</th>\n      <td>E-liter 4K</td>\n      <td>0.041422</td>\n    </tr>\n    <tr>\n      <th>4</th>\n      <td>Splattershot Jr.</td>\n      <td>0.037720</td>\n    </tr>\n    <tr>\n      <th>...</th>\n      <td>...</td>\n      <td>...</td>\n    </tr>\n    <tr>\n      <th>63</th>\n      <td>Rapid Blaster Pro</td>\n      <td>0.002114</td>\n    </tr>\n    <tr>\n      <th>64</th>\n      <td>L-3 Nozzlenose</td>\n      <td>0.002066</td>\n    </tr>\n    <tr>\n      <th>65</th>\n      <td>Carbon Roller</td>\n      <td>0.001899</td>\n    </tr>\n    <tr>\n      <th>66</th>\n      <td>Snipewriter 5H</td>\n      <td>0.001795</td>\n    </tr>\n    <tr>\n      <th>67</th>\n      <td>Mini Splatling</td>\n      <td>0.001713</td>\n    </tr>\n  </tbody>\n</table>\n<p>68 rows × 2 columns</p>\n</div>"
     },
     "execution_count": 45,
     "metadata": {},
     "output_type": "execute_result"
    }
   ],
   "source": [
    "ver2_1_0 = allWeapons[allWeapons[\"Game_Version\"]==\"2.1.0\"].groupby(\"Weapon\")[\"Weapon\"].count().reset_index(name='count').sort_values(['count'], ascending=False, ignore_index=True)\n",
    "ver2_1_0[\"count\"] = ver2_1_0[\"count\"]/sum(ver2_1_0[\"count\"])\n",
    "ver2_1_0"
   ],
   "metadata": {
    "collapsed": false
   }
  },
  {
   "cell_type": "code",
   "execution_count": 46,
   "outputs": [
    {
     "data": {
      "text/plain": "                     Weapon     count\n0     Tentatek Splattershot  0.080972\n1            Splash-o-matic  0.067953\n2   Custom Splattershot Jr.  0.049508\n3              Aerospray RG  0.044159\n4          Splattershot Jr.  0.041698\n..                      ...       ...\n63            Carbon Roller  0.002018\n64           Mini Splatling  0.001988\n65        Rapid Blaster Pro  0.001789\n66           Snipewriter 5H  0.001685\n67             Slosher Deco  0.001562\n\n[68 rows x 2 columns]",
      "text/html": "<div>\n<style scoped>\n    .dataframe tbody tr th:only-of-type {\n        vertical-align: middle;\n    }\n\n    .dataframe tbody tr th {\n        vertical-align: top;\n    }\n\n    .dataframe thead th {\n        text-align: right;\n    }\n</style>\n<table border=\"1\" class=\"dataframe\">\n  <thead>\n    <tr style=\"text-align: right;\">\n      <th></th>\n      <th>Weapon</th>\n      <th>count</th>\n    </tr>\n  </thead>\n  <tbody>\n    <tr>\n      <th>0</th>\n      <td>Tentatek Splattershot</td>\n      <td>0.080972</td>\n    </tr>\n    <tr>\n      <th>1</th>\n      <td>Splash-o-matic</td>\n      <td>0.067953</td>\n    </tr>\n    <tr>\n      <th>2</th>\n      <td>Custom Splattershot Jr.</td>\n      <td>0.049508</td>\n    </tr>\n    <tr>\n      <th>3</th>\n      <td>Aerospray RG</td>\n      <td>0.044159</td>\n    </tr>\n    <tr>\n      <th>4</th>\n      <td>Splattershot Jr.</td>\n      <td>0.041698</td>\n    </tr>\n    <tr>\n      <th>...</th>\n      <td>...</td>\n      <td>...</td>\n    </tr>\n    <tr>\n      <th>63</th>\n      <td>Carbon Roller</td>\n      <td>0.002018</td>\n    </tr>\n    <tr>\n      <th>64</th>\n      <td>Mini Splatling</td>\n      <td>0.001988</td>\n    </tr>\n    <tr>\n      <th>65</th>\n      <td>Rapid Blaster Pro</td>\n      <td>0.001789</td>\n    </tr>\n    <tr>\n      <th>66</th>\n      <td>Snipewriter 5H</td>\n      <td>0.001685</td>\n    </tr>\n    <tr>\n      <th>67</th>\n      <td>Slosher Deco</td>\n      <td>0.001562</td>\n    </tr>\n  </tbody>\n</table>\n<p>68 rows × 2 columns</p>\n</div>"
     },
     "execution_count": 46,
     "metadata": {},
     "output_type": "execute_result"
    }
   ],
   "source": [
    "ver2_1_1 = allWeapons[allWeapons[\"Game_Version\"] == \"2.1.1\"].groupby(\"Weapon\")[\"Weapon\"].count().reset_index(\n",
    "    name='count').sort_values(['count'], ascending=False, ignore_index=True)\n",
    "ver2_1_1[\"count\"] = ver2_1_1[\"count\"] / sum(ver2_1_1[\"count\"])\n",
    "ver2_1_1"
   ],
   "metadata": {
    "collapsed": false
   }
  },
  {
   "cell_type": "code",
   "execution_count": 47,
   "outputs": [
    {
     "data": {
      "text/plain": "                   Weapon     count\n0            .96 Gal Deco  0.063913\n1               N-ZAP '89  0.055730\n2   Tentatek Splattershot  0.052406\n3      Neo Splash-o-matic  0.042262\n4    Krak-On Splat Roller  0.038003\n..                    ...       ...\n75          Carbon Roller  0.001188\n76         L-3 Nozzlenose  0.001045\n77      Rapid Blaster Pro  0.001038\n78           Slosher Deco  0.000780\n79         Snipewriter 5H  0.000718\n\n[80 rows x 2 columns]",
      "text/html": "<div>\n<style scoped>\n    .dataframe tbody tr th:only-of-type {\n        vertical-align: middle;\n    }\n\n    .dataframe tbody tr th {\n        vertical-align: top;\n    }\n\n    .dataframe thead th {\n        text-align: right;\n    }\n</style>\n<table border=\"1\" class=\"dataframe\">\n  <thead>\n    <tr style=\"text-align: right;\">\n      <th></th>\n      <th>Weapon</th>\n      <th>count</th>\n    </tr>\n  </thead>\n  <tbody>\n    <tr>\n      <th>0</th>\n      <td>.96 Gal Deco</td>\n      <td>0.063913</td>\n    </tr>\n    <tr>\n      <th>1</th>\n      <td>N-ZAP '89</td>\n      <td>0.055730</td>\n    </tr>\n    <tr>\n      <th>2</th>\n      <td>Tentatek Splattershot</td>\n      <td>0.052406</td>\n    </tr>\n    <tr>\n      <th>3</th>\n      <td>Neo Splash-o-matic</td>\n      <td>0.042262</td>\n    </tr>\n    <tr>\n      <th>4</th>\n      <td>Krak-On Splat Roller</td>\n      <td>0.038003</td>\n    </tr>\n    <tr>\n      <th>...</th>\n      <td>...</td>\n      <td>...</td>\n    </tr>\n    <tr>\n      <th>75</th>\n      <td>Carbon Roller</td>\n      <td>0.001188</td>\n    </tr>\n    <tr>\n      <th>76</th>\n      <td>L-3 Nozzlenose</td>\n      <td>0.001045</td>\n    </tr>\n    <tr>\n      <th>77</th>\n      <td>Rapid Blaster Pro</td>\n      <td>0.001038</td>\n    </tr>\n    <tr>\n      <th>78</th>\n      <td>Slosher Deco</td>\n      <td>0.000780</td>\n    </tr>\n    <tr>\n      <th>79</th>\n      <td>Snipewriter 5H</td>\n      <td>0.000718</td>\n    </tr>\n  </tbody>\n</table>\n<p>80 rows × 2 columns</p>\n</div>"
     },
     "execution_count": 47,
     "metadata": {},
     "output_type": "execute_result"
    }
   ],
   "source": [
    "ver3_0_0 = allWeapons[allWeapons[\"Game_Version\"]==\"3.0.0\"].groupby(\"Weapon\")[\"Weapon\"].count().reset_index(name='count').sort_values(['count'], ascending=False, ignore_index=True)\n",
    "ver3_0_0[\"count\"] = ver3_0_0[\"count\"]/sum(ver3_0_0[\"count\"])\n",
    "ver3_0_0"
   ],
   "metadata": {
    "collapsed": false
   }
  },
  {
   "cell_type": "code",
   "execution_count": 48,
   "outputs": [
    {
     "data": {
      "text/plain": "                     Weapon     count\n0     Tentatek Splattershot  0.057687\n1        Neo Splash-o-matic  0.043751\n2            Splash-o-matic  0.041362\n3                E-liter 4K  0.037114\n4   Custom Splattershot Jr.  0.033444\n..                      ...       ...\n75           Snipewriter 5H  0.001528\n76             Slosher Deco  0.001363\n77        Rapid Blaster Pro  0.001349\n78                  .96 Gal  0.001198\n79           L-3 Nozzlenose  0.001113\n\n[80 rows x 2 columns]",
      "text/html": "<div>\n<style scoped>\n    .dataframe tbody tr th:only-of-type {\n        vertical-align: middle;\n    }\n\n    .dataframe tbody tr th {\n        vertical-align: top;\n    }\n\n    .dataframe thead th {\n        text-align: right;\n    }\n</style>\n<table border=\"1\" class=\"dataframe\">\n  <thead>\n    <tr style=\"text-align: right;\">\n      <th></th>\n      <th>Weapon</th>\n      <th>count</th>\n    </tr>\n  </thead>\n  <tbody>\n    <tr>\n      <th>0</th>\n      <td>Tentatek Splattershot</td>\n      <td>0.057687</td>\n    </tr>\n    <tr>\n      <th>1</th>\n      <td>Neo Splash-o-matic</td>\n      <td>0.043751</td>\n    </tr>\n    <tr>\n      <th>2</th>\n      <td>Splash-o-matic</td>\n      <td>0.041362</td>\n    </tr>\n    <tr>\n      <th>3</th>\n      <td>E-liter 4K</td>\n      <td>0.037114</td>\n    </tr>\n    <tr>\n      <th>4</th>\n      <td>Custom Splattershot Jr.</td>\n      <td>0.033444</td>\n    </tr>\n    <tr>\n      <th>...</th>\n      <td>...</td>\n      <td>...</td>\n    </tr>\n    <tr>\n      <th>75</th>\n      <td>Snipewriter 5H</td>\n      <td>0.001528</td>\n    </tr>\n    <tr>\n      <th>76</th>\n      <td>Slosher Deco</td>\n      <td>0.001363</td>\n    </tr>\n    <tr>\n      <th>77</th>\n      <td>Rapid Blaster Pro</td>\n      <td>0.001349</td>\n    </tr>\n    <tr>\n      <th>78</th>\n      <td>.96 Gal</td>\n      <td>0.001198</td>\n    </tr>\n    <tr>\n      <th>79</th>\n      <td>L-3 Nozzlenose</td>\n      <td>0.001113</td>\n    </tr>\n  </tbody>\n</table>\n<p>80 rows × 2 columns</p>\n</div>"
     },
     "execution_count": 48,
     "metadata": {},
     "output_type": "execute_result"
    }
   ],
   "source": [
    "ver3_0_1 = allWeapons[allWeapons[\"Game_Version\"]==\"3.0.1\"].groupby(\"Weapon\")[\"Weapon\"].count().reset_index(name='count').sort_values(['count'], ascending=False, ignore_index=True)\n",
    "ver3_0_1[\"count\"] = ver3_0_1[\"count\"]/sum(ver3_0_1[\"count\"])\n",
    "ver3_0_1"
   ],
   "metadata": {
    "collapsed": false
   }
  },
  {
   "cell_type": "code",
   "execution_count": 49,
   "outputs": [
    {
     "data": {
      "text/plain": "                     Weapon     count\n0     Tentatek Splattershot  0.056439\n1        Neo Splash-o-matic  0.047372\n2                E-liter 4K  0.033126\n3          Sloshing Machine  0.031498\n4   Custom Splattershot Jr.  0.030378\n..                      ...       ...\n75           H-3 Nozzlenose  0.001717\n76            Carbon Roller  0.001613\n77                  .96 Gal  0.001311\n78        Rapid Blaster Pro  0.001307\n79           L-3 Nozzlenose  0.000711\n\n[80 rows x 2 columns]",
      "text/html": "<div>\n<style scoped>\n    .dataframe tbody tr th:only-of-type {\n        vertical-align: middle;\n    }\n\n    .dataframe tbody tr th {\n        vertical-align: top;\n    }\n\n    .dataframe thead th {\n        text-align: right;\n    }\n</style>\n<table border=\"1\" class=\"dataframe\">\n  <thead>\n    <tr style=\"text-align: right;\">\n      <th></th>\n      <th>Weapon</th>\n      <th>count</th>\n    </tr>\n  </thead>\n  <tbody>\n    <tr>\n      <th>0</th>\n      <td>Tentatek Splattershot</td>\n      <td>0.056439</td>\n    </tr>\n    <tr>\n      <th>1</th>\n      <td>Neo Splash-o-matic</td>\n      <td>0.047372</td>\n    </tr>\n    <tr>\n      <th>2</th>\n      <td>E-liter 4K</td>\n      <td>0.033126</td>\n    </tr>\n    <tr>\n      <th>3</th>\n      <td>Sloshing Machine</td>\n      <td>0.031498</td>\n    </tr>\n    <tr>\n      <th>4</th>\n      <td>Custom Splattershot Jr.</td>\n      <td>0.030378</td>\n    </tr>\n    <tr>\n      <th>...</th>\n      <td>...</td>\n      <td>...</td>\n    </tr>\n    <tr>\n      <th>75</th>\n      <td>H-3 Nozzlenose</td>\n      <td>0.001717</td>\n    </tr>\n    <tr>\n      <th>76</th>\n      <td>Carbon Roller</td>\n      <td>0.001613</td>\n    </tr>\n    <tr>\n      <th>77</th>\n      <td>.96 Gal</td>\n      <td>0.001311</td>\n    </tr>\n    <tr>\n      <th>78</th>\n      <td>Rapid Blaster Pro</td>\n      <td>0.001307</td>\n    </tr>\n    <tr>\n      <th>79</th>\n      <td>L-3 Nozzlenose</td>\n      <td>0.000711</td>\n    </tr>\n  </tbody>\n</table>\n<p>80 rows × 2 columns</p>\n</div>"
     },
     "execution_count": 49,
     "metadata": {},
     "output_type": "execute_result"
    }
   ],
   "source": [
    "ver3_1_0 = allWeapons[allWeapons[\"Game_Version\"]==\"3.1.0\"].groupby(\"Weapon\")[\"Weapon\"].count().reset_index(name='count').sort_values(['count'], ascending=False, ignore_index=True)\n",
    "ver3_1_0[\"count\"] = ver3_1_0[\"count\"]/sum(ver3_1_0[\"count\"])\n",
    "ver3_1_0"
   ],
   "metadata": {
    "collapsed": false
   }
  },
  {
   "cell_type": "code",
   "execution_count": 50,
   "outputs": [
    {
     "data": {
      "text/plain": "                   Weapon     count\n0   Tentatek Splattershot  0.054177\n1      Neo Splash-o-matic  0.051347\n2        Sloshing Machine  0.035331\n3              E-liter 4K  0.032531\n4        Splattershot Jr.  0.031357\n..                    ...       ...\n75           Slosher Deco  0.001657\n76          Carbon Roller  0.001557\n77                .96 Gal  0.001551\n78         Snipewriter 5H  0.001452\n79         L-3 Nozzlenose  0.000667\n\n[80 rows x 2 columns]",
      "text/html": "<div>\n<style scoped>\n    .dataframe tbody tr th:only-of-type {\n        vertical-align: middle;\n    }\n\n    .dataframe tbody tr th {\n        vertical-align: top;\n    }\n\n    .dataframe thead th {\n        text-align: right;\n    }\n</style>\n<table border=\"1\" class=\"dataframe\">\n  <thead>\n    <tr style=\"text-align: right;\">\n      <th></th>\n      <th>Weapon</th>\n      <th>count</th>\n    </tr>\n  </thead>\n  <tbody>\n    <tr>\n      <th>0</th>\n      <td>Tentatek Splattershot</td>\n      <td>0.054177</td>\n    </tr>\n    <tr>\n      <th>1</th>\n      <td>Neo Splash-o-matic</td>\n      <td>0.051347</td>\n    </tr>\n    <tr>\n      <th>2</th>\n      <td>Sloshing Machine</td>\n      <td>0.035331</td>\n    </tr>\n    <tr>\n      <th>3</th>\n      <td>E-liter 4K</td>\n      <td>0.032531</td>\n    </tr>\n    <tr>\n      <th>4</th>\n      <td>Splattershot Jr.</td>\n      <td>0.031357</td>\n    </tr>\n    <tr>\n      <th>...</th>\n      <td>...</td>\n      <td>...</td>\n    </tr>\n    <tr>\n      <th>75</th>\n      <td>Slosher Deco</td>\n      <td>0.001657</td>\n    </tr>\n    <tr>\n      <th>76</th>\n      <td>Carbon Roller</td>\n      <td>0.001557</td>\n    </tr>\n    <tr>\n      <th>77</th>\n      <td>.96 Gal</td>\n      <td>0.001551</td>\n    </tr>\n    <tr>\n      <th>78</th>\n      <td>Snipewriter 5H</td>\n      <td>0.001452</td>\n    </tr>\n    <tr>\n      <th>79</th>\n      <td>L-3 Nozzlenose</td>\n      <td>0.000667</td>\n    </tr>\n  </tbody>\n</table>\n<p>80 rows × 2 columns</p>\n</div>"
     },
     "execution_count": 50,
     "metadata": {},
     "output_type": "execute_result"
    }
   ],
   "source": [
    "ver3_1_1 = allWeapons[allWeapons[\"Game_Version\"] == \"3.1.1\"].groupby(\"Weapon\")[\"Weapon\"].count().reset_index(\n",
    "    name='count').sort_values(['count'], ascending=False, ignore_index=True)\n",
    "ver3_1_1[\"count\"] = ver3_1_1[\"count\"] / sum(ver3_1_1[\"count\"])\n",
    "ver3_1_1"
   ],
   "metadata": {
    "collapsed": false
   }
  },
  {
   "cell_type": "code",
   "execution_count": 51,
   "outputs": [
    {
     "data": {
      "text/plain": "                      Weapon     count\n0                  Painbrush  0.069187\n1                S-BLAST '92  0.051921\n2      Tentatek Splattershot  0.042781\n3        Splatana Wiper Deco  0.037359\n4   Annaki Splattershot Nova  0.033582\n..                       ...       ...\n86             Rapid Blaster  0.001095\n87             Carbon Roller  0.001037\n88              Slosher Deco  0.000913\n89         Rapid Blaster Pro  0.000848\n90            L-3 Nozzlenose  0.000464\n\n[91 rows x 2 columns]",
      "text/html": "<div>\n<style scoped>\n    .dataframe tbody tr th:only-of-type {\n        vertical-align: middle;\n    }\n\n    .dataframe tbody tr th {\n        vertical-align: top;\n    }\n\n    .dataframe thead th {\n        text-align: right;\n    }\n</style>\n<table border=\"1\" class=\"dataframe\">\n  <thead>\n    <tr style=\"text-align: right;\">\n      <th></th>\n      <th>Weapon</th>\n      <th>count</th>\n    </tr>\n  </thead>\n  <tbody>\n    <tr>\n      <th>0</th>\n      <td>Painbrush</td>\n      <td>0.069187</td>\n    </tr>\n    <tr>\n      <th>1</th>\n      <td>S-BLAST '92</td>\n      <td>0.051921</td>\n    </tr>\n    <tr>\n      <th>2</th>\n      <td>Tentatek Splattershot</td>\n      <td>0.042781</td>\n    </tr>\n    <tr>\n      <th>3</th>\n      <td>Splatana Wiper Deco</td>\n      <td>0.037359</td>\n    </tr>\n    <tr>\n      <th>4</th>\n      <td>Annaki Splattershot Nova</td>\n      <td>0.033582</td>\n    </tr>\n    <tr>\n      <th>...</th>\n      <td>...</td>\n      <td>...</td>\n    </tr>\n    <tr>\n      <th>86</th>\n      <td>Rapid Blaster</td>\n      <td>0.001095</td>\n    </tr>\n    <tr>\n      <th>87</th>\n      <td>Carbon Roller</td>\n      <td>0.001037</td>\n    </tr>\n    <tr>\n      <th>88</th>\n      <td>Slosher Deco</td>\n      <td>0.000913</td>\n    </tr>\n    <tr>\n      <th>89</th>\n      <td>Rapid Blaster Pro</td>\n      <td>0.000848</td>\n    </tr>\n    <tr>\n      <th>90</th>\n      <td>L-3 Nozzlenose</td>\n      <td>0.000464</td>\n    </tr>\n  </tbody>\n</table>\n<p>91 rows × 2 columns</p>\n</div>"
     },
     "execution_count": 51,
     "metadata": {},
     "output_type": "execute_result"
    }
   ],
   "source": [
    "ver4_0_0 = allWeapons[allWeapons[\"Game_Version\"] == \"4.0.0\"].groupby(\"Weapon\")[\"Weapon\"].count().reset_index(\n",
    "    name='count').sort_values(['count'], ascending=False, ignore_index=True)\n",
    "ver4_0_0[\"count\"] = ver4_0_0[\"count\"] / sum(ver4_0_0[\"count\"])\n",
    "ver4_0_0"
   ],
   "metadata": {
    "collapsed": false
   }
  },
  {
   "cell_type": "code",
   "execution_count": 52,
   "outputs": [
    {
     "data": {
      "text/plain": "                      Weapon     count\n0      Tentatek Splattershot  0.047686\n1               Splattershot  0.043632\n2         Neo Splash-o-matic  0.032793\n3   Annaki Splattershot Nova  0.031078\n4           Splattershot Jr.  0.029382\n..                       ...       ...\n86                   .96 Gal  0.001039\n87              Slosher Deco  0.000908\n88            H-3 Nozzlenose  0.000540\n89            L-3 Nozzlenose  0.000433\n90         Rapid Blaster Pro  0.000402\n\n[91 rows x 2 columns]",
      "text/html": "<div>\n<style scoped>\n    .dataframe tbody tr th:only-of-type {\n        vertical-align: middle;\n    }\n\n    .dataframe tbody tr th {\n        vertical-align: top;\n    }\n\n    .dataframe thead th {\n        text-align: right;\n    }\n</style>\n<table border=\"1\" class=\"dataframe\">\n  <thead>\n    <tr style=\"text-align: right;\">\n      <th></th>\n      <th>Weapon</th>\n      <th>count</th>\n    </tr>\n  </thead>\n  <tbody>\n    <tr>\n      <th>0</th>\n      <td>Tentatek Splattershot</td>\n      <td>0.047686</td>\n    </tr>\n    <tr>\n      <th>1</th>\n      <td>Splattershot</td>\n      <td>0.043632</td>\n    </tr>\n    <tr>\n      <th>2</th>\n      <td>Neo Splash-o-matic</td>\n      <td>0.032793</td>\n    </tr>\n    <tr>\n      <th>3</th>\n      <td>Annaki Splattershot Nova</td>\n      <td>0.031078</td>\n    </tr>\n    <tr>\n      <th>4</th>\n      <td>Splattershot Jr.</td>\n      <td>0.029382</td>\n    </tr>\n    <tr>\n      <th>...</th>\n      <td>...</td>\n      <td>...</td>\n    </tr>\n    <tr>\n      <th>86</th>\n      <td>.96 Gal</td>\n      <td>0.001039</td>\n    </tr>\n    <tr>\n      <th>87</th>\n      <td>Slosher Deco</td>\n      <td>0.000908</td>\n    </tr>\n    <tr>\n      <th>88</th>\n      <td>H-3 Nozzlenose</td>\n      <td>0.000540</td>\n    </tr>\n    <tr>\n      <th>89</th>\n      <td>L-3 Nozzlenose</td>\n      <td>0.000433</td>\n    </tr>\n    <tr>\n      <th>90</th>\n      <td>Rapid Blaster Pro</td>\n      <td>0.000402</td>\n    </tr>\n  </tbody>\n</table>\n<p>91 rows × 2 columns</p>\n</div>"
     },
     "execution_count": 52,
     "metadata": {},
     "output_type": "execute_result"
    }
   ],
   "source": [
    "ver4_0_1 = allWeapons[allWeapons[\"Game_Version\"] == \"4.0.1\"].groupby(\"Weapon\")[\"Weapon\"].count().reset_index(\n",
    "    name='count').sort_values(['count'], ascending=False, ignore_index=True)\n",
    "ver4_0_1[\"count\"] = ver4_0_1[\"count\"] / sum(ver4_0_1[\"count\"])\n",
    "ver4_0_1"
   ],
   "metadata": {
    "collapsed": false
   }
  },
  {
   "cell_type": "code",
   "execution_count": 53,
   "outputs": [
    {
     "data": {
      "text/plain": "                   Weapon     count\n0   Tentatek Splattershot  0.050546\n1              E-liter 4K  0.033746\n2      Neo Splash-o-matic  0.033687\n3        Splattershot Jr.  0.032751\n4          Splash-o-matic  0.028502\n..                    ...       ...\n86        Big Swig Roller  0.001624\n87           Tenta Brella  0.001531\n88         H-3 Nozzlenose  0.001214\n89         L-3 Nozzlenose  0.000897\n90      Rapid Blaster Pro  0.000829\n\n[91 rows x 2 columns]",
      "text/html": "<div>\n<style scoped>\n    .dataframe tbody tr th:only-of-type {\n        vertical-align: middle;\n    }\n\n    .dataframe tbody tr th {\n        vertical-align: top;\n    }\n\n    .dataframe thead th {\n        text-align: right;\n    }\n</style>\n<table border=\"1\" class=\"dataframe\">\n  <thead>\n    <tr style=\"text-align: right;\">\n      <th></th>\n      <th>Weapon</th>\n      <th>count</th>\n    </tr>\n  </thead>\n  <tbody>\n    <tr>\n      <th>0</th>\n      <td>Tentatek Splattershot</td>\n      <td>0.050546</td>\n    </tr>\n    <tr>\n      <th>1</th>\n      <td>E-liter 4K</td>\n      <td>0.033746</td>\n    </tr>\n    <tr>\n      <th>2</th>\n      <td>Neo Splash-o-matic</td>\n      <td>0.033687</td>\n    </tr>\n    <tr>\n      <th>3</th>\n      <td>Splattershot Jr.</td>\n      <td>0.032751</td>\n    </tr>\n    <tr>\n      <th>4</th>\n      <td>Splash-o-matic</td>\n      <td>0.028502</td>\n    </tr>\n    <tr>\n      <th>...</th>\n      <td>...</td>\n      <td>...</td>\n    </tr>\n    <tr>\n      <th>86</th>\n      <td>Big Swig Roller</td>\n      <td>0.001624</td>\n    </tr>\n    <tr>\n      <th>87</th>\n      <td>Tenta Brella</td>\n      <td>0.001531</td>\n    </tr>\n    <tr>\n      <th>88</th>\n      <td>H-3 Nozzlenose</td>\n      <td>0.001214</td>\n    </tr>\n    <tr>\n      <th>89</th>\n      <td>L-3 Nozzlenose</td>\n      <td>0.000897</td>\n    </tr>\n    <tr>\n      <th>90</th>\n      <td>Rapid Blaster Pro</td>\n      <td>0.000829</td>\n    </tr>\n  </tbody>\n</table>\n<p>91 rows × 2 columns</p>\n</div>"
     },
     "execution_count": 53,
     "metadata": {},
     "output_type": "execute_result"
    }
   ],
   "source": [
    "ver4_0_2 = allWeapons[allWeapons[\"Game_Version\"] == \"4.0.2\"].groupby(\"Weapon\")[\"Weapon\"].count().reset_index(\n",
    "    name='count').sort_values(['count'], ascending=False, ignore_index=True)\n",
    "ver4_0_2[\"count\"] = ver4_0_2[\"count\"] / sum(ver4_0_2[\"count\"])\n",
    "ver4_0_2"
   ],
   "metadata": {
    "collapsed": false
   }
  },
  {
   "cell_type": "code",
   "execution_count": 54,
   "outputs": [
    {
     "data": {
      "text/plain": "                   Weapon     count\n0            Splattershot  0.068738\n1   Tentatek Splattershot  0.046085\n2            Tri-Stringer  0.046031\n3               N-ZAP '85  0.045391\n4              E-liter 4K  0.032353\n..                    ...       ...\n86          Carbon Roller  0.001550\n87       L-3 Nozzlenose D  0.001257\n88       H-3 Nozzlenose D  0.001095\n89         H-3 Nozzlenose  0.000856\n90         L-3 Nozzlenose  0.000585\n\n[91 rows x 2 columns]",
      "text/html": "<div>\n<style scoped>\n    .dataframe tbody tr th:only-of-type {\n        vertical-align: middle;\n    }\n\n    .dataframe tbody tr th {\n        vertical-align: top;\n    }\n\n    .dataframe thead th {\n        text-align: right;\n    }\n</style>\n<table border=\"1\" class=\"dataframe\">\n  <thead>\n    <tr style=\"text-align: right;\">\n      <th></th>\n      <th>Weapon</th>\n      <th>count</th>\n    </tr>\n  </thead>\n  <tbody>\n    <tr>\n      <th>0</th>\n      <td>Splattershot</td>\n      <td>0.068738</td>\n    </tr>\n    <tr>\n      <th>1</th>\n      <td>Tentatek Splattershot</td>\n      <td>0.046085</td>\n    </tr>\n    <tr>\n      <th>2</th>\n      <td>Tri-Stringer</td>\n      <td>0.046031</td>\n    </tr>\n    <tr>\n      <th>3</th>\n      <td>N-ZAP '85</td>\n      <td>0.045391</td>\n    </tr>\n    <tr>\n      <th>4</th>\n      <td>E-liter 4K</td>\n      <td>0.032353</td>\n    </tr>\n    <tr>\n      <th>...</th>\n      <td>...</td>\n      <td>...</td>\n    </tr>\n    <tr>\n      <th>86</th>\n      <td>Carbon Roller</td>\n      <td>0.001550</td>\n    </tr>\n    <tr>\n      <th>87</th>\n      <td>L-3 Nozzlenose D</td>\n      <td>0.001257</td>\n    </tr>\n    <tr>\n      <th>88</th>\n      <td>H-3 Nozzlenose D</td>\n      <td>0.001095</td>\n    </tr>\n    <tr>\n      <th>89</th>\n      <td>H-3 Nozzlenose</td>\n      <td>0.000856</td>\n    </tr>\n    <tr>\n      <th>90</th>\n      <td>L-3 Nozzlenose</td>\n      <td>0.000585</td>\n    </tr>\n  </tbody>\n</table>\n<p>91 rows × 2 columns</p>\n</div>"
     },
     "execution_count": 54,
     "metadata": {},
     "output_type": "execute_result"
    }
   ],
   "source": [
    "ver4_1_0 = allWeapons[allWeapons[\"Game_Version\"] == \"4.1.0\"].groupby(\"Weapon\")[\"Weapon\"].count().reset_index(\n",
    "    name='count').sort_values(['count'], ascending=False, ignore_index=True)\n",
    "ver4_1_0[\"count\"] = ver4_1_0[\"count\"] / sum(ver4_1_0[\"count\"])\n",
    "ver4_1_0"
   ],
   "metadata": {
    "collapsed": false
   }
  },
  {
   "cell_type": "code",
   "execution_count": 58,
   "outputs": [],
   "source": [
    "ver1_1_1.to_csv(\"Data/Version1.1.1.csv\")\n",
    "ver1_1_2.to_csv(\"Data/Version1.1.2.csv\")\n",
    "ver1_2_0.to_csv(\"Data/Version1.2.0.csv\")\n",
    "ver1_2_1.to_csv(\"Data/Version1.2.1.csv\")\n",
    "ver2_0_0.to_csv(\"Data/Version2.0.0.csv\")\n",
    "ver2_0_1.to_csv(\"Data/Version2.0.1.csv\")\n",
    "ver2_1_0.to_csv(\"Data/Version2.1.0.csv\")\n",
    "ver2_1_1.to_csv(\"Data/Version2.1.1.csv\")\n",
    "ver3_0_0.to_csv(\"Data/Version3.0.0.csv\")\n",
    "ver3_0_1.to_csv(\"Data/Version3.0.1.csv\")\n",
    "ver3_1_0.to_csv(\"Data/Version3.1.0.csv\")\n",
    "ver3_1_1.to_csv(\"Data/Version3.1.1.csv\")\n",
    "ver4_0_0.to_csv(\"Data/Version4.0.0.csv\")\n",
    "ver4_0_1.to_csv(\"Data/Version4.0.1.csv\")\n",
    "ver4_0_2.to_csv(\"Data/Version4.0.2.csv\")\n",
    "ver4_1_0.to_csv(\"Data/Version4.1.0.csv\")"
   ],
   "metadata": {
    "collapsed": false
   }
  }
 ],
 "metadata": {
  "kernelspec": {
   "display_name": "Python 3",
   "language": "python",
   "name": "python3"
  },
  "language_info": {
   "codemirror_mode": {
    "name": "ipython",
    "version": 2
   },
   "file_extension": ".py",
   "mimetype": "text/x-python",
   "name": "python",
   "nbconvert_exporter": "python",
   "pygments_lexer": "ipython2",
   "version": "2.7.6"
  }
 },
 "nbformat": 4,
 "nbformat_minor": 0
}
